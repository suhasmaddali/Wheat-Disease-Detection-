{
 "cells": [
  {
   "cell_type": "code",
   "execution_count": 1,
   "id": "5aebd99b",
   "metadata": {},
   "outputs": [],
   "source": [
    "import numpy as np\n",
    "import pandas as pd\n",
    "import matplotlib.pyplot as plt\n",
    "import warnings\n",
    "warnings.filterwarnings(\"ignore\")\n",
    "%matplotlib inline"
   ]
  },
  {
   "cell_type": "code",
   "execution_count": 2,
   "id": "limiting-intro",
   "metadata": {},
   "outputs": [],
   "source": [
    "import tensorflow as tf"
   ]
  },
  {
   "cell_type": "code",
   "execution_count": 3,
   "id": "2484aac6",
   "metadata": {},
   "outputs": [],
   "source": [
    "from sklearn.model_selection import train_test_split"
   ]
  },
  {
   "cell_type": "code",
   "execution_count": 4,
   "id": "0007c0c6",
   "metadata": {},
   "outputs": [],
   "source": [
    "from tensorflow.keras.optimizers import Adam"
   ]
  },
  {
   "cell_type": "code",
   "execution_count": 5,
   "id": "39178b85",
   "metadata": {},
   "outputs": [],
   "source": [
    "from tensorflow.keras.applications import VGG19, VGG16"
   ]
  },
  {
   "cell_type": "code",
   "execution_count": 6,
   "id": "7ed7ec63",
   "metadata": {},
   "outputs": [],
   "source": [
    "import cv2\n",
    "import os \n",
    "import pickle"
   ]
  },
  {
   "cell_type": "code",
   "execution_count": 7,
   "id": "bfa64ccb",
   "metadata": {},
   "outputs": [],
   "source": [
    "from imutils import paths"
   ]
  },
  {
   "cell_type": "code",
   "execution_count": 8,
   "id": "5d1d0797",
   "metadata": {},
   "outputs": [],
   "source": [
    "LABELS = set([\"Crown and Root Rot\", \"Healthy Wheat\", \"Leaf Rust\", \"Wheat Loose Smut\"])"
   ]
  },
  {
   "cell_type": "code",
   "execution_count": 9,
   "id": "b28124e7",
   "metadata": {},
   "outputs": [
    {
     "name": "stdout",
     "output_type": "stream",
     "text": [
      "Images/Crown and Root Rot/00041.jpg\n",
      "Images/Crown and Root Rot/00051.jpg\n",
      "Images/Crown and Root Rot/00061.jpg\n",
      "Images/Crown and Root Rot/00071.jpg\n",
      "Images/Crown and Root Rot/00081.png\n"
     ]
    }
   ],
   "source": [
    "count = 0 \n",
    "for images in paths.list_images('Images/Crown and Root Rot/'):\n",
    "    print(images)\n",
    "    count = count + 1\n",
    "    if count == 5:\n",
    "        break"
   ]
  },
  {
   "cell_type": "code",
   "execution_count": 10,
   "id": "bfb5665a",
   "metadata": {},
   "outputs": [],
   "source": [
    "image = cv2.imread('Images/Crown and Root Rot/00041.jpg')\n",
    "image = cv2.cvtColor(image, cv2.COLOR_BGR2RGB)\n",
    "image = cv2.resize(image, (224, 224))"
   ]
  },
  {
   "cell_type": "code",
   "execution_count": 11,
   "id": "0c822c02",
   "metadata": {},
   "outputs": [
    {
     "name": "stdout",
     "output_type": "stream",
     "text": [
      "Images/Crown and Root Rot/00041.jpg\n",
      "Images/Crown and Root Rot/00051.jpg\n",
      "Images/Crown and Root Rot/00061.jpg\n",
      "Images/Crown and Root Rot/00071.jpg\n",
      "Images/Crown and Root Rot/00081.png\n"
     ]
    }
   ],
   "source": [
    "count = 0\n",
    "for images in paths.list_images('Images/Crown and Root Rot/'):\n",
    "    print(images)\n",
    "    count = count + 1\n",
    "    if count == 5:\n",
    "        break"
   ]
  },
  {
   "cell_type": "code",
   "execution_count": 12,
   "id": "1decd761",
   "metadata": {},
   "outputs": [],
   "source": [
    "sample_path = list(paths.list_images('Images/Crown and Root Rot/'))[0]"
   ]
  },
  {
   "cell_type": "code",
   "execution_count": 13,
   "id": "0bbdb5e7",
   "metadata": {},
   "outputs": [
    {
     "data": {
      "text/plain": [
       "'Images/Crown and Root Rot/00041.jpg'"
      ]
     },
     "execution_count": 13,
     "metadata": {},
     "output_type": "execute_result"
    }
   ],
   "source": [
    "sample_path"
   ]
  },
  {
   "cell_type": "code",
   "execution_count": 14,
   "id": "c749fb21",
   "metadata": {},
   "outputs": [
    {
     "data": {
      "text/plain": [
       "['Images', 'Crown and Root Rot', '00041.jpg']"
      ]
     },
     "execution_count": 14,
     "metadata": {},
     "output_type": "execute_result"
    }
   ],
   "source": [
    "sample_path.split('/')"
   ]
  },
  {
   "cell_type": "code",
   "execution_count": 15,
   "id": "c2417efa",
   "metadata": {},
   "outputs": [
    {
     "data": {
      "text/plain": [
       "['.git',\n",
       " '.gitattributes',\n",
       " '.ipynb_checkpoints',\n",
       " 'Images',\n",
       " 'README.md',\n",
       " 'Wheat Disease Detection.ipynb']"
      ]
     },
     "execution_count": 15,
     "metadata": {},
     "output_type": "execute_result"
    }
   ],
   "source": [
    "os.listdir()"
   ]
  },
  {
   "cell_type": "code",
   "execution_count": 16,
   "id": "8db501a8",
   "metadata": {},
   "outputs": [],
   "source": [
    "Labels = os.listdir('Images')"
   ]
  },
  {
   "cell_type": "code",
   "execution_count": 17,
   "id": "10155347",
   "metadata": {},
   "outputs": [
    {
     "name": "stdout",
     "output_type": "stream",
     "text": [
      "['Crown and Root Rot', 'Healthy Wheat', 'Leaf Rust', 'Wheat Loose Smut']\n"
     ]
    }
   ],
   "source": [
    "print(Labels)"
   ]
  },
  {
   "cell_type": "code",
   "execution_count": 18,
   "id": "040a946c",
   "metadata": {},
   "outputs": [],
   "source": [
    "CROWN_AND_ROOT_ROT_PATH = 'Images/Crown and Root Rot/'\n",
    "HEALTHY_AND_WHEAT_PATH = 'Images/Healthy Wheat/'\n",
    "LEAF_RUST_PATH = 'Images/Leaf Rust/'\n",
    "WHEAT_LOOSE_SMUT_PATH = 'Images/Wheat Loose Smut/'"
   ]
  },
  {
   "cell_type": "code",
   "execution_count": 19,
   "id": "97e59499",
   "metadata": {},
   "outputs": [],
   "source": [
    "from tqdm import tqdm"
   ]
  },
  {
   "cell_type": "code",
   "execution_count": 20,
   "id": "24776ba6",
   "metadata": {},
   "outputs": [
    {
     "name": "stderr",
     "output_type": "stream",
     "text": [
      "1021it [00:04, 240.75it/s]\n",
      "1146it [00:22, 51.77it/s] \n",
      "1286it [01:28, 14.49it/s] \n",
      "930it [00:04, 198.17it/s]\n"
     ]
    }
   ],
   "source": [
    "data = []\n",
    "labels = []\n",
    "for image_path in tqdm(paths.list_images(CROWN_AND_ROOT_ROT_PATH)):\n",
    "    image = cv2.imread(image_path)\n",
    "    image = cv2.cvtColor(image, cv2.COLOR_BGR2RGB)\n",
    "    image = cv2.resize(image, (224, 224))\n",
    "    data.append(image)\n",
    "    \n",
    "    label = image_path.split('/')[-2]\n",
    "    \n",
    "    labels.append(label)\n",
    "    \n",
    "for image_path in tqdm(paths.list_images(HEALTHY_AND_WHEAT_PATH)):\n",
    "    image = cv2.imread(image_path)\n",
    "    image = cv2.cvtColor(image, cv2.COLOR_BGR2RGB)\n",
    "    image = cv2.resize(image, (224, 224))\n",
    "    data.append(image)\n",
    "    \n",
    "    label = image_path.split('/')[-2]\n",
    "    \n",
    "    labels.append(label)\n",
    "\n",
    "for image_path in tqdm(paths.list_images(LEAF_RUST_PATH)):\n",
    "    image = cv2.imread(image_path)\n",
    "    image = cv2.cvtColor(image, cv2.COLOR_BGR2RGB)\n",
    "    image = cv2.resize(image, (224, 224))\n",
    "    data.append(image)\n",
    "    \n",
    "    label = image_path.split('/')[-2]\n",
    "    \n",
    "    labels.append(label)\n",
    "    \n",
    "for image_path in tqdm(paths.list_images(WHEAT_LOOSE_SMUT_PATH)):\n",
    "    image = cv2.imread(image_path)\n",
    "    image = cv2.cvtColor(image, cv2.COLOR_BGR2RGB)\n",
    "    image = cv2.resize(image, (224, 224))\n",
    "    data.append(image)\n",
    "    \n",
    "    label = image_path.split('/')[-2]\n",
    "    \n",
    "    labels.append(label)\n",
    "    \n",
    "    "
   ]
  },
  {
   "cell_type": "code",
   "execution_count": 21,
   "id": "2b812a5b",
   "metadata": {},
   "outputs": [
    {
     "data": {
      "text/plain": [
       "'Wheat Loose Smut'"
      ]
     },
     "execution_count": 21,
     "metadata": {},
     "output_type": "execute_result"
    }
   ],
   "source": [
    "labels[-1]"
   ]
  },
  {
   "cell_type": "code",
   "execution_count": 22,
   "id": "ba75891f",
   "metadata": {},
   "outputs": [],
   "source": [
    "from tensorflow.keras.layers import Input\n",
    "from tensorflow.keras import Model\n",
    "from tensorflow.keras.layers import AveragePooling2D\n",
    "from tensorflow.keras.layers import Flatten\n",
    "from tensorflow.keras.layers import Dense\n",
    "from tensorflow.keras.layers import Dropout"
   ]
  },
  {
   "cell_type": "code",
   "execution_count": 23,
   "id": "cd528f92",
   "metadata": {},
   "outputs": [],
   "source": [
    "headmodel = VGG19(weights = \"imagenet\", include_top = False,\n",
    "             input_tensor = Input(shape = (224, 224, 3)))\n",
    "model = headmodel.output\n",
    "model = AveragePooling2D(pool_size= (5, 5))(model)\n",
    "model = Flatten(name = 'flatten')(model)\n",
    "model = Dense(512, activation = 'relu')(model)\n",
    "model = Dropout(0.2)(model)\n",
    "model = Dense(len(Labels), activation = 'softmax')(model)\n",
    "\n",
    "final_model = Model(inputs = headmodel.input, outputs = model)\n",
    "\n",
    "for layer in headmodel.layers:\n",
    "    layer.trainable = False"
   ]
  },
  {
   "cell_type": "code",
   "execution_count": 24,
   "id": "660dda78",
   "metadata": {},
   "outputs": [],
   "source": [
    "opt = Adam(lr = 1e-3)\n",
    "final_model.compile(loss = \"categorical_crossentropy\", optimizer = opt,\n",
    "                   metrics = [\"accuracy\"])"
   ]
  },
  {
   "cell_type": "code",
   "execution_count": 25,
   "id": "9904c3fc",
   "metadata": {},
   "outputs": [],
   "source": [
    "from sklearn.model_selection import train_test_split\n",
    "from sklearn.preprocessing import LabelBinarizer"
   ]
  },
  {
   "cell_type": "code",
   "execution_count": 26,
   "id": "f5af392a",
   "metadata": {},
   "outputs": [],
   "source": [
    "data = np.array(data)\n",
    "labels = np.array(labels)\n",
    "\n",
    "lb = LabelBinarizer()\n",
    "labels = lb.fit_transform(labels)\n"
   ]
  },
  {
   "cell_type": "code",
   "execution_count": 27,
   "id": "a67be207",
   "metadata": {},
   "outputs": [
    {
     "data": {
      "text/plain": [
       "array([1, 0, 0, 0])"
      ]
     },
     "execution_count": 27,
     "metadata": {},
     "output_type": "execute_result"
    }
   ],
   "source": [
    "labels[0]"
   ]
  },
  {
   "cell_type": "code",
   "execution_count": 28,
   "id": "c4be9b48",
   "metadata": {},
   "outputs": [],
   "source": [
    "X_train, X_test, y_train, y_test = train_test_split(data, labels, test_size = 0.2,\n",
    "                                                    stratify = labels, random_state = 101)"
   ]
  },
  {
   "cell_type": "code",
   "execution_count": 45,
   "id": "1204c7b2",
   "metadata": {},
   "outputs": [
    {
     "data": {
      "text/plain": [
       "3506"
      ]
     },
     "execution_count": 45,
     "metadata": {},
     "output_type": "execute_result"
    }
   ],
   "source": [
    "len(X_train)"
   ]
  },
  {
   "cell_type": "code",
   "execution_count": 29,
   "id": "0d03d2c1",
   "metadata": {},
   "outputs": [
    {
     "name": "stdout",
     "output_type": "stream",
     "text": [
      "[name: \"/device:CPU:0\"\n",
      "device_type: \"CPU\"\n",
      "memory_limit: 268435456\n",
      "locality {\n",
      "}\n",
      "incarnation: 5296307031270157230\n",
      ", name: \"/device:GPU:0\"\n",
      "device_type: \"GPU\"\n",
      "memory_limit: 7009950106\n",
      "locality {\n",
      "  bus_id: 1\n",
      "  links {\n",
      "  }\n",
      "}\n",
      "incarnation: 6643352997384344691\n",
      "physical_device_desc: \"device: 0, name: NVIDIA GeForce RTX 2080, pci bus id: 0000:01:00.0, compute capability: 7.5\"\n",
      "]\n"
     ]
    }
   ],
   "source": [
    "from tensorflow.python.client import device_lib\n",
    "print(device_lib.list_local_devices())"
   ]
  },
  {
   "cell_type": "code",
   "execution_count": 31,
   "id": "e495498f",
   "metadata": {},
   "outputs": [
    {
     "name": "stdout",
     "output_type": "stream",
     "text": [
      "Train on 3506 samples, validate on 877 samples\n",
      "Epoch 1/30\n",
      "3506/3506 [==============================] - 14s 4ms/sample - loss: 0.1090 - accuracy: 0.9692 - val_loss: 0.1648 - val_accuracy: 0.9521\n",
      "Epoch 2/30\n",
      "3506/3506 [==============================] - 14s 4ms/sample - loss: 0.0732 - accuracy: 0.9809 - val_loss: 0.1630 - val_accuracy: 0.9532\n",
      "Epoch 3/30\n",
      "3506/3506 [==============================] - 14s 4ms/sample - loss: 0.0753 - accuracy: 0.9800 - val_loss: 0.1397 - val_accuracy: 0.9612\n",
      "Epoch 4/30\n",
      "3506/3506 [==============================] - 14s 4ms/sample - loss: 0.0669 - accuracy: 0.9829 - val_loss: 0.1566 - val_accuracy: 0.9669\n",
      "Epoch 5/30\n",
      "3506/3506 [==============================] - 14s 4ms/sample - loss: 0.0696 - accuracy: 0.9832 - val_loss: 0.1512 - val_accuracy: 0.9532\n",
      "Epoch 6/30\n",
      "3506/3506 [==============================] - 14s 4ms/sample - loss: 0.0676 - accuracy: 0.9855 - val_loss: 0.1588 - val_accuracy: 0.9624\n",
      "Epoch 7/30\n",
      "3506/3506 [==============================] - 14s 4ms/sample - loss: 0.0583 - accuracy: 0.9849 - val_loss: 0.1498 - val_accuracy: 0.9578\n",
      "Epoch 8/30\n",
      "3506/3506 [==============================] - 14s 4ms/sample - loss: 0.0545 - accuracy: 0.9869 - val_loss: 0.1514 - val_accuracy: 0.9590\n",
      "Epoch 9/30\n",
      "3506/3506 [==============================] - 14s 4ms/sample - loss: 0.0535 - accuracy: 0.9869 - val_loss: 0.1367 - val_accuracy: 0.9669\n",
      "Epoch 10/30\n",
      "3506/3506 [==============================] - 15s 4ms/sample - loss: 0.0515 - accuracy: 0.9875 - val_loss: 0.1496 - val_accuracy: 0.9669\n",
      "Epoch 11/30\n",
      "3506/3506 [==============================] - 15s 4ms/sample - loss: 0.0472 - accuracy: 0.9877 - val_loss: 0.1686 - val_accuracy: 0.9624\n",
      "Epoch 12/30\n",
      "3506/3506 [==============================] - 15s 4ms/sample - loss: 0.0568 - accuracy: 0.9863 - val_loss: 0.1691 - val_accuracy: 0.9567\n",
      "Epoch 13/30\n",
      "3506/3506 [==============================] - 15s 4ms/sample - loss: 0.0522 - accuracy: 0.9852 - val_loss: 0.1590 - val_accuracy: 0.9578\n",
      "Epoch 14/30\n",
      "3506/3506 [==============================] - 15s 4ms/sample - loss: 0.0450 - accuracy: 0.9872 - val_loss: 0.1486 - val_accuracy: 0.9658\n",
      "Epoch 15/30\n",
      "3506/3506 [==============================] - 15s 4ms/sample - loss: 0.0472 - accuracy: 0.9863 - val_loss: 0.1534 - val_accuracy: 0.9647\n",
      "Epoch 16/30\n",
      "3506/3506 [==============================] - 15s 4ms/sample - loss: 0.0452 - accuracy: 0.9889 - val_loss: 0.1578 - val_accuracy: 0.9635\n",
      "Epoch 17/30\n",
      "3506/3506 [==============================] - 15s 4ms/sample - loss: 0.0398 - accuracy: 0.9889 - val_loss: 0.1876 - val_accuracy: 0.9658\n",
      "Epoch 18/30\n",
      "3506/3506 [==============================] - 15s 4ms/sample - loss: 0.0454 - accuracy: 0.9880 - val_loss: 0.1622 - val_accuracy: 0.9681\n",
      "Epoch 19/30\n",
      "3506/3506 [==============================] - 15s 4ms/sample - loss: 0.0430 - accuracy: 0.9880 - val_loss: 0.1660 - val_accuracy: 0.9635\n",
      "Epoch 20/30\n",
      "3506/3506 [==============================] - 15s 4ms/sample - loss: 0.0377 - accuracy: 0.9883 - val_loss: 0.1533 - val_accuracy: 0.9669\n",
      "Epoch 21/30\n",
      "3506/3506 [==============================] - 15s 4ms/sample - loss: 0.0384 - accuracy: 0.9894 - val_loss: 0.1515 - val_accuracy: 0.9669\n",
      "Epoch 22/30\n",
      "3506/3506 [==============================] - 15s 4ms/sample - loss: 0.0349 - accuracy: 0.9897 - val_loss: 0.1859 - val_accuracy: 0.9647\n",
      "Epoch 23/30\n",
      "3506/3506 [==============================] - 16s 4ms/sample - loss: 0.0363 - accuracy: 0.9897 - val_loss: 0.1711 - val_accuracy: 0.9601\n",
      "Epoch 24/30\n",
      "3506/3506 [==============================] - 16s 4ms/sample - loss: 0.0356 - accuracy: 0.9880 - val_loss: 0.1660 - val_accuracy: 0.9624\n",
      "Epoch 25/30\n",
      "3506/3506 [==============================] - 16s 4ms/sample - loss: 0.0339 - accuracy: 0.9877 - val_loss: 0.1799 - val_accuracy: 0.9578\n",
      "Epoch 26/30\n",
      "3506/3506 [==============================] - 16s 5ms/sample - loss: 0.0334 - accuracy: 0.9883 - val_loss: 0.1542 - val_accuracy: 0.9647\n",
      "Epoch 27/30\n",
      "3506/3506 [==============================] - 16s 4ms/sample - loss: 0.0319 - accuracy: 0.9880 - val_loss: 0.1756 - val_accuracy: 0.9635\n",
      "Epoch 28/30\n",
      "3506/3506 [==============================] - 16s 5ms/sample - loss: 0.0285 - accuracy: 0.9900 - val_loss: 0.1748 - val_accuracy: 0.9635\n",
      "Epoch 29/30\n",
      "3506/3506 [==============================] - 16s 5ms/sample - loss: 0.0367 - accuracy: 0.9886 - val_loss: 0.1447 - val_accuracy: 0.9738\n",
      "Epoch 30/30\n",
      "3506/3506 [==============================] - 16s 4ms/sample - loss: 0.0281 - accuracy: 0.9894 - val_loss: 0.2131 - val_accuracy: 0.9567\n"
     ]
    },
    {
     "data": {
      "text/plain": [
       "<tensorflow.python.keras.callbacks.History at 0x1bb379ac648>"
      ]
     },
     "execution_count": 31,
     "metadata": {},
     "output_type": "execute_result"
    }
   ],
   "source": [
    "final_model.fit(X_train, y_train, validation_data = (X_test, y_test), \n",
    "               epochs = 30, batch_size = 64)"
   ]
  },
  {
   "cell_type": "code",
   "execution_count": null,
   "id": "eef321bf",
   "metadata": {},
   "outputs": [],
   "source": []
  }
 ],
 "metadata": {
  "kernelspec": {
   "display_name": "Python 3 (ipykernel)",
   "language": "python",
   "name": "python3"
  },
  "language_info": {
   "codemirror_mode": {
    "name": "ipython",
    "version": 3
   },
   "file_extension": ".py",
   "mimetype": "text/x-python",
   "name": "python",
   "nbconvert_exporter": "python",
   "pygments_lexer": "ipython3",
   "version": "3.7.11"
  }
 },
 "nbformat": 4,
 "nbformat_minor": 5
}

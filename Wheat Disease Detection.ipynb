{
 "cells": [
  {
   "cell_type": "code",
   "execution_count": 3,
   "id": "3d28d54b",
   "metadata": {},
   "outputs": [],
   "source": [
    "import numpy as np\n",
    "import pandas as pd\n",
    "import matplotlib.pyplot as plt\n",
    "import warnings\n",
    "warnings.filterwarnings(\"ignore\")\n",
    "%matplotlib inline"
   ]
  },
  {
   "cell_type": "code",
   "execution_count": 4,
   "id": "e2588329",
   "metadata": {},
   "outputs": [],
   "source": [
    "from sklearn.model_selection import train_test_split"
   ]
  },
  {
   "cell_type": "code",
   "execution_count": 5,
   "id": "4819cb62",
   "metadata": {},
   "outputs": [],
   "source": [
    "from tensorflow.keras.optimizers import Adam"
   ]
  },
  {
   "cell_type": "code",
   "execution_count": 6,
   "id": "af0f6311",
   "metadata": {},
   "outputs": [],
   "source": [
    "from tensorflow.keras.applications import VGG19, VGG16"
   ]
  },
  {
   "cell_type": "code",
   "execution_count": 8,
   "id": "baa836fc",
   "metadata": {},
   "outputs": [],
   "source": [
    "import cv2\n",
    "import os \n",
    "import pickle"
   ]
  },
  {
   "cell_type": "code",
   "execution_count": 10,
   "id": "5a79a28f",
   "metadata": {},
   "outputs": [],
   "source": [
    "from imutils import paths"
   ]
  },
  {
   "cell_type": "code",
   "execution_count": 11,
   "id": "b80111af",
   "metadata": {},
   "outputs": [],
   "source": [
    "LABELS = set([\"Crown and Root Rot\", \"Healthy Wheat\", \"Leaf Rust\", \"Wheat Loose Smut\"])"
   ]
  },
  {
   "cell_type": "code",
   "execution_count": 18,
   "id": "6bbe2c39",
   "metadata": {},
   "outputs": [
    {
     "name": "stdout",
     "output_type": "stream",
     "text": [
      "Images/Crown and Root Rot/00041.jpg\n",
      "Images/Crown and Root Rot/00051.jpg\n",
      "Images/Crown and Root Rot/00061.jpg\n",
      "Images/Crown and Root Rot/00071.jpg\n",
      "Images/Crown and Root Rot/00081.png\n"
     ]
    }
   ],
   "source": [
    "count = 0 \n",
    "for images in paths.list_images('Images/Crown and Root Rot/'):\n",
    "    print(images)\n",
    "    count = count + 1\n",
    "    if count == 5:\n",
    "        break"
   ]
  },
  {
   "cell_type": "code",
   "execution_count": 25,
   "id": "ffc24d7e",
   "metadata": {},
   "outputs": [],
   "source": [
    "image = cv2.imread('Images/Crown and Root Rot/00041.jpg')\n",
    "image = cv2.cvtColor(image, cv2.COLOR_BGR2RGB)\n",
    "image = cv2.resize(image, (224, 224))"
   ]
  },
  {
   "cell_type": "code",
   "execution_count": 23,
   "id": "a2f7a513",
   "metadata": {},
   "outputs": [
    {
     "data": {
      "text/plain": [
       "array([[[206, 203, 196],\n",
       "        [207, 204, 197],\n",
       "        [207, 204, 197],\n",
       "        ...,\n",
       "        [211, 208, 201],\n",
       "        [211, 208, 203],\n",
       "        [211, 208, 203]],\n",
       "\n",
       "       [[206, 203, 196],\n",
       "        [207, 204, 197],\n",
       "        [207, 204, 197],\n",
       "        ...,\n",
       "        [211, 208, 201],\n",
       "        [211, 208, 203],\n",
       "        [211, 208, 203]],\n",
       "\n",
       "       [[206, 203, 196],\n",
       "        [207, 204, 197],\n",
       "        [207, 204, 197],\n",
       "        ...,\n",
       "        [211, 208, 201],\n",
       "        [211, 208, 203],\n",
       "        [211, 208, 203]],\n",
       "\n",
       "       ...,\n",
       "\n",
       "       [[198, 195, 188],\n",
       "        [200, 197, 190],\n",
       "        [201, 198, 191],\n",
       "        ...,\n",
       "        [208, 205, 200],\n",
       "        [208, 205, 200],\n",
       "        [208, 205, 200]],\n",
       "\n",
       "       [[197, 194, 189],\n",
       "        [202, 199, 194],\n",
       "        [202, 199, 194],\n",
       "        ...,\n",
       "        [208, 205, 200],\n",
       "        [208, 205, 200],\n",
       "        [208, 205, 200]],\n",
       "\n",
       "       [[200, 197, 192],\n",
       "        [201, 198, 193],\n",
       "        [202, 199, 194],\n",
       "        ...,\n",
       "        [208, 205, 200],\n",
       "        [208, 205, 200],\n",
       "        [208, 205, 200]]], dtype=uint8)"
      ]
     },
     "execution_count": 23,
     "metadata": {},
     "output_type": "execute_result"
    }
   ],
   "source": [
    "IMAGE"
   ]
  },
  {
   "cell_type": "code",
   "execution_count": null,
   "id": "e92d261c",
   "metadata": {},
   "outputs": [],
   "source": []
  }
 ],
 "metadata": {
  "kernelspec": {
   "display_name": "Python 3",
   "language": "python",
   "name": "python3"
  },
  "language_info": {
   "codemirror_mode": {
    "name": "ipython",
    "version": 3
   },
   "file_extension": ".py",
   "mimetype": "text/x-python",
   "name": "python",
   "nbconvert_exporter": "python",
   "pygments_lexer": "ipython3",
   "version": "3.7.10"
  }
 },
 "nbformat": 4,
 "nbformat_minor": 5
}

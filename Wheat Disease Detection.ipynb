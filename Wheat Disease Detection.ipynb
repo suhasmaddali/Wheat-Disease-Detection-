{
 "cells": [
  {
   "cell_type": "code",
   "execution_count": 3,
   "id": "8bdfb846",
   "metadata": {},
   "outputs": [],
   "source": [
    "import numpy as np\n",
    "import pandas as pd\n",
    "import matplotlib.pyplot as plt\n",
    "import warnings\n",
    "warnings.filterwarnings(\"ignore\")\n",
    "%matplotlib inline"
   ]
  },
  {
   "cell_type": "code",
   "execution_count": 4,
   "id": "7ed74861",
   "metadata": {},
   "outputs": [],
   "source": [
    "from sklearn.model_selection import train_test_split"
   ]
  },
  {
   "cell_type": "code",
   "execution_count": 5,
   "id": "2d59b681",
   "metadata": {},
   "outputs": [],
   "source": [
    "from tensorflow.keras.optimizers import Adam"
   ]
  },
  {
   "cell_type": "code",
   "execution_count": 6,
   "id": "a2a587f8",
   "metadata": {},
   "outputs": [],
   "source": [
    "from tensorflow.keras.applications import VGG19, VGG16"
   ]
  },
  {
   "cell_type": "code",
   "execution_count": 8,
   "id": "a64cd25d",
   "metadata": {},
   "outputs": [],
   "source": [
    "import cv2\n",
    "import os \n",
    "import pickle"
   ]
  },
  {
   "cell_type": "code",
   "execution_count": 10,
   "id": "b261344f",
   "metadata": {},
   "outputs": [],
   "source": [
    "from imutils import paths"
   ]
  },
  {
   "cell_type": "code",
   "execution_count": 11,
   "id": "68d989f3",
   "metadata": {},
   "outputs": [],
   "source": [
    "LABELS = set([\"Crown and Root Rot\", \"Healthy Wheat\", \"Leaf Rust\", \"Wheat Loose Smut\"])"
   ]
  },
  {
   "cell_type": "code",
   "execution_count": 17,
   "id": "347a7580",
   "metadata": {},
   "outputs": [
    {
     "name": "stdout",
     "output_type": "stream",
     "text": [
      "Images/Crown and Root Rot/00041.jpg\n"
     ]
    }
   ],
   "source": [
    "for images in paths.list_images('Images/Crown and Root Rot/'):\n",
    "    print(images)\n",
    "    break"
   ]
  },
  {
   "cell_type": "code",
   "execution_count": null,
   "id": "a41660f9",
   "metadata": {},
   "outputs": [],
   "source": []
  }
 ],
 "metadata": {
  "kernelspec": {
   "display_name": "Python 3",
   "language": "python",
   "name": "python3"
  },
  "language_info": {
   "codemirror_mode": {
    "name": "ipython",
    "version": 3
   },
   "file_extension": ".py",
   "mimetype": "text/x-python",
   "name": "python",
   "nbconvert_exporter": "python",
   "pygments_lexer": "ipython3",
   "version": "3.7.10"
  }
 },
 "nbformat": 4,
 "nbformat_minor": 5
}

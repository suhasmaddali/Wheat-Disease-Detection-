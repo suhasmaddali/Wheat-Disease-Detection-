{
 "cells": [
  {
   "cell_type": "code",
   "execution_count": 1,
   "id": "5aebd99b",
   "metadata": {},
   "outputs": [],
   "source": [
    "import numpy as np\n",
    "import pandas as pd\n",
    "import matplotlib.pyplot as plt\n",
    "import warnings\n",
    "warnings.filterwarnings(\"ignore\")\n",
    "%matplotlib inline"
   ]
  },
  {
   "cell_type": "code",
   "execution_count": 2,
   "id": "limiting-intro",
   "metadata": {},
   "outputs": [],
   "source": [
    "import tensorflow as tf"
   ]
  },
  {
   "cell_type": "code",
   "execution_count": 3,
   "id": "2484aac6",
   "metadata": {},
   "outputs": [],
   "source": [
    "from sklearn.model_selection import train_test_split"
   ]
  },
  {
   "cell_type": "code",
   "execution_count": 4,
   "id": "0007c0c6",
   "metadata": {},
   "outputs": [],
   "source": [
    "from tensorflow.keras.optimizers import Adam"
   ]
  },
  {
   "cell_type": "code",
   "execution_count": 5,
   "id": "39178b85",
   "metadata": {},
   "outputs": [],
   "source": [
    "from tensorflow.keras.applications import VGG19, VGG16"
   ]
  },
  {
   "cell_type": "code",
   "execution_count": 6,
   "id": "7ed7ec63",
   "metadata": {},
   "outputs": [],
   "source": [
    "import cv2\n",
    "import os \n",
    "import pickle"
   ]
  },
  {
   "cell_type": "code",
   "execution_count": 7,
   "id": "bfa64ccb",
   "metadata": {},
   "outputs": [],
   "source": [
    "from imutils import paths"
   ]
  },
  {
   "cell_type": "code",
   "execution_count": 8,
   "id": "5d1d0797",
   "metadata": {},
   "outputs": [],
   "source": [
    "LABELS = set([\"Crown and Root Rot\", \"Healthy Wheat\", \"Leaf Rust\", \"Wheat Loose Smut\"])"
   ]
  },
  {
   "cell_type": "code",
   "execution_count": 9,
   "id": "b28124e7",
   "metadata": {},
   "outputs": [
    {
     "name": "stdout",
     "output_type": "stream",
     "text": [
      "Images/Crown and Root Rot/00041.jpg\n",
      "Images/Crown and Root Rot/00051.jpg\n",
      "Images/Crown and Root Rot/00061.jpg\n",
      "Images/Crown and Root Rot/00071.jpg\n",
      "Images/Crown and Root Rot/00081.png\n"
     ]
    }
   ],
   "source": [
    "count = 0 \n",
    "for images in paths.list_images('Images/Crown and Root Rot/'):\n",
    "    print(images)\n",
    "    count = count + 1\n",
    "    if count == 5:\n",
    "        break"
   ]
  },
  {
   "cell_type": "code",
   "execution_count": 10,
   "id": "bfb5665a",
   "metadata": {},
   "outputs": [],
   "source": [
    "image = cv2.imread('Images/Crown and Root Rot/00041.jpg')\n",
    "image = cv2.cvtColor(image, cv2.COLOR_BGR2RGB)\n",
    "image = cv2.resize(image, (224, 224))"
   ]
  },
  {
   "cell_type": "code",
   "execution_count": 11,
   "id": "0c822c02",
   "metadata": {},
   "outputs": [
    {
     "name": "stdout",
     "output_type": "stream",
     "text": [
      "Images/Crown and Root Rot/00041.jpg\n",
      "Images/Crown and Root Rot/00051.jpg\n",
      "Images/Crown and Root Rot/00061.jpg\n",
      "Images/Crown and Root Rot/00071.jpg\n",
      "Images/Crown and Root Rot/00081.png\n"
     ]
    }
   ],
   "source": [
    "count = 0\n",
    "for images in paths.list_images('Images/Crown and Root Rot/'):\n",
    "    print(images)\n",
    "    count = count + 1\n",
    "    if count == 5:\n",
    "        break"
   ]
  },
  {
   "cell_type": "code",
   "execution_count": 12,
   "id": "1decd761",
   "metadata": {},
   "outputs": [],
   "source": [
    "sample_path = list(paths.list_images('Images/Crown and Root Rot/'))[0]"
   ]
  },
  {
   "cell_type": "code",
   "execution_count": 13,
   "id": "0bbdb5e7",
   "metadata": {},
   "outputs": [
    {
     "data": {
      "text/plain": [
       "'Images/Crown and Root Rot/00041.jpg'"
      ]
     },
     "execution_count": 13,
     "metadata": {},
     "output_type": "execute_result"
    }
   ],
   "source": [
    "sample_path"
   ]
  },
  {
   "cell_type": "code",
   "execution_count": 14,
   "id": "c749fb21",
   "metadata": {},
   "outputs": [
    {
     "data": {
      "text/plain": [
       "['Images', 'Crown and Root Rot', '00041.jpg']"
      ]
     },
     "execution_count": 14,
     "metadata": {},
     "output_type": "execute_result"
    }
   ],
   "source": [
    "sample_path.split('/')"
   ]
  },
  {
   "cell_type": "code",
   "execution_count": 15,
   "id": "c2417efa",
   "metadata": {},
   "outputs": [
    {
     "data": {
      "text/plain": [
       "['.git',\n",
       " '.gitattributes',\n",
       " '.ipynb_checkpoints',\n",
       " 'Images',\n",
       " 'README.md',\n",
       " 'Wheat Disease Detection.ipynb']"
      ]
     },
     "execution_count": 15,
     "metadata": {},
     "output_type": "execute_result"
    }
   ],
   "source": [
    "os.listdir()"
   ]
  },
  {
   "cell_type": "code",
   "execution_count": 16,
   "id": "8db501a8",
   "metadata": {},
   "outputs": [],
   "source": [
    "Labels = os.listdir('Images')"
   ]
  },
  {
   "cell_type": "code",
   "execution_count": 17,
   "id": "10155347",
   "metadata": {},
   "outputs": [
    {
     "name": "stdout",
     "output_type": "stream",
     "text": [
      "['Crown and Root Rot', 'Healthy Wheat', 'Leaf Rust', 'Wheat Loose Smut']\n"
     ]
    }
   ],
   "source": [
    "print(Labels)"
   ]
  },
  {
   "cell_type": "code",
   "execution_count": 18,
   "id": "040a946c",
   "metadata": {},
   "outputs": [],
   "source": [
    "CROWN_AND_ROOT_ROT_PATH = 'Images/Crown and Root Rot/'\n",
    "HEALTHY_AND_WHEAT_PATH = 'Images/Healthy Wheat/'\n",
    "LEAF_RUST_PATH = 'Images/Leaf Rust/'\n",
    "WHEAT_LOOSE_SMUT_PATH = 'Images/Wheat Loose Smut/'"
   ]
  },
  {
   "cell_type": "code",
   "execution_count": 19,
   "id": "97e59499",
   "metadata": {},
   "outputs": [],
   "source": [
    "from tqdm import tqdm"
   ]
  },
  {
   "cell_type": "code",
   "execution_count": 20,
   "id": "24776ba6",
   "metadata": {},
   "outputs": [
    {
     "name": "stderr",
     "output_type": "stream",
     "text": [
      "1021it [00:04, 252.24it/s]\n",
      "1146it [00:21, 53.25it/s] \n",
      "1286it [01:27, 14.73it/s] \n",
      "930it [00:04, 208.70it/s]\n"
     ]
    }
   ],
   "source": [
    "data = []\n",
    "labels = []\n",
    "for image_path in tqdm(paths.list_images(CROWN_AND_ROOT_ROT_PATH)):\n",
    "    image = cv2.imread(image_path)\n",
    "    image = cv2.cvtColor(image, cv2.COLOR_BGR2RGB)\n",
    "    image = cv2.resize(image, (224, 224))\n",
    "    data.append(image)\n",
    "    \n",
    "    label = image_path.split('/')[-2]\n",
    "    \n",
    "    labels.append(label)\n",
    "    \n",
    "for image_path in tqdm(paths.list_images(HEALTHY_AND_WHEAT_PATH)):\n",
    "    image = cv2.imread(image_path)\n",
    "    image = cv2.cvtColor(image, cv2.COLOR_BGR2RGB)\n",
    "    image = cv2.resize(image, (224, 224))\n",
    "    data.append(image)\n",
    "    \n",
    "    label = image_path.split('/')[-2]\n",
    "    \n",
    "    labels.append(label)\n",
    "\n",
    "for image_path in tqdm(paths.list_images(LEAF_RUST_PATH)):\n",
    "    image = cv2.imread(image_path)\n",
    "    image = cv2.cvtColor(image, cv2.COLOR_BGR2RGB)\n",
    "    image = cv2.resize(image, (224, 224))\n",
    "    data.append(image)\n",
    "    \n",
    "    label = image_path.split('/')[-2]\n",
    "    \n",
    "    labels.append(label)\n",
    "    \n",
    "for image_path in tqdm(paths.list_images(WHEAT_LOOSE_SMUT_PATH)):\n",
    "    image = cv2.imread(image_path)\n",
    "    image = cv2.cvtColor(image, cv2.COLOR_BGR2RGB)\n",
    "    image = cv2.resize(image, (224, 224))\n",
    "    data.append(image)\n",
    "    \n",
    "    label = image_path.split('/')[-2]\n",
    "    \n",
    "    labels.append(label)\n",
    "    \n",
    "    "
   ]
  },
  {
   "cell_type": "code",
   "execution_count": 21,
   "id": "2b812a5b",
   "metadata": {},
   "outputs": [
    {
     "data": {
      "text/plain": [
       "'Wheat Loose Smut'"
      ]
     },
     "execution_count": 21,
     "metadata": {},
     "output_type": "execute_result"
    }
   ],
   "source": [
    "labels[-1]"
   ]
  },
  {
   "cell_type": "code",
   "execution_count": 22,
   "id": "ba75891f",
   "metadata": {},
   "outputs": [],
   "source": [
    "from tensorflow.keras.layers import Input\n",
    "from tensorflow.keras import Model\n",
    "from tensorflow.keras.layers import AveragePooling2D\n",
    "from tensorflow.keras.layers import Flatten\n",
    "from tensorflow.keras.layers import Dense\n",
    "from tensorflow.keras.layers import Dropout"
   ]
  },
  {
   "cell_type": "markdown",
   "id": "75b63a78",
   "metadata": {},
   "source": [
    "## VGG19 Network\n",
    "\n",
    "VGG19 nework trained on imagenet weights is taken as our base model. In addition to this network, we add more layers so that the final model is used for our task of detecting and identifying wheat diseases. "
   ]
  },
  {
   "cell_type": "code",
   "execution_count": 23,
   "id": "cd528f92",
   "metadata": {},
   "outputs": [],
   "source": [
    "headmodel = VGG19(weights = \"imagenet\", include_top = False,\n",
    "             input_tensor = Input(shape = (224, 224, 3)))\n",
    "model = headmodel.output\n",
    "model = AveragePooling2D(pool_size= (5, 5))(model)\n",
    "model = Flatten(name = 'flatten')(model)\n",
    "model = Dense(512, activation = 'relu')(model)\n",
    "model = Dropout(0.2)(model)\n",
    "model = Dense(len(Labels), activation = 'softmax')(model)\n",
    "\n",
    "final_model = Model(inputs = headmodel.input, outputs = model)\n",
    "\n",
    "for layer in headmodel.layers:\n",
    "    layer.trainable = False"
   ]
  },
  {
   "cell_type": "code",
   "execution_count": 24,
   "id": "660dda78",
   "metadata": {},
   "outputs": [],
   "source": [
    "opt = Adam(lr = 1e-3)\n",
    "final_model.compile(loss = \"categorical_crossentropy\", optimizer = opt,\n",
    "                   metrics = [\"accuracy\"])"
   ]
  },
  {
   "cell_type": "code",
   "execution_count": 25,
   "id": "9904c3fc",
   "metadata": {},
   "outputs": [],
   "source": [
    "from sklearn.model_selection import train_test_split\n",
    "from sklearn.preprocessing import LabelBinarizer"
   ]
  },
  {
   "cell_type": "code",
   "execution_count": 26,
   "id": "f5af392a",
   "metadata": {},
   "outputs": [],
   "source": [
    "data = np.array(data)\n",
    "labels = np.array(labels)\n",
    "\n",
    "lb = LabelBinarizer()\n",
    "labels = lb.fit_transform(labels)\n"
   ]
  },
  {
   "cell_type": "code",
   "execution_count": 27,
   "id": "a67be207",
   "metadata": {},
   "outputs": [
    {
     "data": {
      "text/plain": [
       "array([1, 0, 0, 0])"
      ]
     },
     "execution_count": 27,
     "metadata": {},
     "output_type": "execute_result"
    }
   ],
   "source": [
    "labels[0]"
   ]
  },
  {
   "cell_type": "code",
   "execution_count": 28,
   "id": "c4be9b48",
   "metadata": {},
   "outputs": [],
   "source": [
    "X_train, X_test, y_train, y_test = train_test_split(data, labels, test_size = 0.2,\n",
    "                                                    stratify = labels, random_state = 101)"
   ]
  },
  {
   "cell_type": "code",
   "execution_count": 29,
   "id": "1204c7b2",
   "metadata": {},
   "outputs": [
    {
     "data": {
      "text/plain": [
       "3506"
      ]
     },
     "execution_count": 29,
     "metadata": {},
     "output_type": "execute_result"
    }
   ],
   "source": [
    "len(X_train)"
   ]
  },
  {
   "cell_type": "code",
   "execution_count": 30,
   "id": "0d03d2c1",
   "metadata": {},
   "outputs": [
    {
     "name": "stdout",
     "output_type": "stream",
     "text": [
      "[name: \"/device:CPU:0\"\n",
      "device_type: \"CPU\"\n",
      "memory_limit: 268435456\n",
      "locality {\n",
      "}\n",
      "incarnation: 12394139845768866608\n",
      ", name: \"/device:GPU:0\"\n",
      "device_type: \"GPU\"\n",
      "memory_limit: 7009950106\n",
      "locality {\n",
      "  bus_id: 1\n",
      "  links {\n",
      "  }\n",
      "}\n",
      "incarnation: 3718247561560573176\n",
      "physical_device_desc: \"device: 0, name: NVIDIA GeForce RTX 2080, pci bus id: 0000:01:00.0, compute capability: 7.5\"\n",
      "]\n"
     ]
    }
   ],
   "source": [
    "from tensorflow.python.client import device_lib\n",
    "print(device_lib.list_local_devices())"
   ]
  },
  {
   "cell_type": "code",
   "execution_count": 31,
   "id": "e495498f",
   "metadata": {},
   "outputs": [
    {
     "name": "stdout",
     "output_type": "stream",
     "text": [
      "Train on 3506 samples, validate on 877 samples\n",
      "Epoch 1/30\n",
      "WARNING:tensorflow:Entity <function Function._initialize_uninitialized_variables.<locals>.initialize_variables at 0x000002977D405798> could not be transformed and will be executed as-is. Please report this to the AutoGraph team. When filing the bug, set the verbosity to 10 (on Linux, `export AUTOGRAPH_VERBOSITY=10`) and attach the full output. Cause: No module named 'tensorflow_core.estimator'\n",
      "WARNING: Entity <function Function._initialize_uninitialized_variables.<locals>.initialize_variables at 0x000002977D405798> could not be transformed and will be executed as-is. Please report this to the AutoGraph team. When filing the bug, set the verbosity to 10 (on Linux, `export AUTOGRAPH_VERBOSITY=10`) and attach the full output. Cause: No module named 'tensorflow_core.estimator'\n",
      "3506/3506 [==============================] - 25s 7ms/sample - loss: 1.4687 - accuracy: 0.6937 - val_loss: 0.6549 - val_accuracy: 0.7845\n",
      "Epoch 2/30\n",
      "3506/3506 [==============================] - 13s 4ms/sample - loss: 0.4309 - accuracy: 0.8557 - val_loss: 0.3612 - val_accuracy: 0.8871\n",
      "Epoch 3/30\n",
      "3506/3506 [==============================] - 14s 4ms/sample - loss: 0.2547 - accuracy: 0.9102 - val_loss: 0.2967 - val_accuracy: 0.9122\n",
      "Epoch 4/30\n",
      "3506/3506 [==============================] - 14s 4ms/sample - loss: 0.1681 - accuracy: 0.9492 - val_loss: 0.2186 - val_accuracy: 0.9384\n",
      "Epoch 5/30\n",
      "3506/3506 [==============================] - 14s 4ms/sample - loss: 0.1227 - accuracy: 0.9655 - val_loss: 0.1959 - val_accuracy: 0.9453\n",
      "Epoch 6/30\n",
      "3506/3506 [==============================] - 14s 4ms/sample - loss: 0.0933 - accuracy: 0.9769 - val_loss: 0.1991 - val_accuracy: 0.9510\n",
      "Epoch 7/30\n",
      "3506/3506 [==============================] - 14s 4ms/sample - loss: 0.0792 - accuracy: 0.9789 - val_loss: 0.1745 - val_accuracy: 0.9532\n",
      "Epoch 8/30\n",
      "3506/3506 [==============================] - 14s 4ms/sample - loss: 0.0724 - accuracy: 0.9809 - val_loss: 0.1813 - val_accuracy: 0.9612\n",
      "Epoch 9/30\n",
      "3506/3506 [==============================] - 15s 4ms/sample - loss: 0.0690 - accuracy: 0.9837 - val_loss: 0.1821 - val_accuracy: 0.9612\n",
      "Epoch 10/30\n",
      "3506/3506 [==============================] - 16s 5ms/sample - loss: 0.0737 - accuracy: 0.9832 - val_loss: 0.1751 - val_accuracy: 0.9624\n",
      "Epoch 11/30\n",
      "3506/3506 [==============================] - 16s 5ms/sample - loss: 0.0668 - accuracy: 0.9835 - val_loss: 0.1501 - val_accuracy: 0.9624\n",
      "Epoch 12/30\n",
      "3506/3506 [==============================] - 15s 4ms/sample - loss: 0.0690 - accuracy: 0.9860 - val_loss: 0.1600 - val_accuracy: 0.9635\n",
      "Epoch 13/30\n",
      "3506/3506 [==============================] - 15s 4ms/sample - loss: 0.0508 - accuracy: 0.9869 - val_loss: 0.1698 - val_accuracy: 0.9704\n",
      "Epoch 14/30\n",
      "3506/3506 [==============================] - 15s 4ms/sample - loss: 0.0503 - accuracy: 0.9886 - val_loss: 0.1532 - val_accuracy: 0.9669\n",
      "Epoch 15/30\n",
      "3506/3506 [==============================] - 15s 4ms/sample - loss: 0.0442 - accuracy: 0.9877 - val_loss: 0.1608 - val_accuracy: 0.9647\n",
      "Epoch 16/30\n",
      "3506/3506 [==============================] - 17s 5ms/sample - loss: 0.0560 - accuracy: 0.9860 - val_loss: 0.2003 - val_accuracy: 0.9601\n",
      "Epoch 17/30\n",
      "3506/3506 [==============================] - 15s 4ms/sample - loss: 0.0483 - accuracy: 0.9855 - val_loss: 0.1560 - val_accuracy: 0.9647\n",
      "Epoch 18/30\n",
      "3506/3506 [==============================] - 17s 5ms/sample - loss: 0.0504 - accuracy: 0.9894 - val_loss: 0.1612 - val_accuracy: 0.9658\n",
      "Epoch 19/30\n",
      "3506/3506 [==============================] - 17s 5ms/sample - loss: 0.0390 - accuracy: 0.9875 - val_loss: 0.1714 - val_accuracy: 0.9658\n",
      "Epoch 20/30\n",
      "3506/3506 [==============================] - 17s 5ms/sample - loss: 0.0451 - accuracy: 0.9889 - val_loss: 0.1453 - val_accuracy: 0.9715\n",
      "Epoch 21/30\n",
      "3506/3506 [==============================] - 16s 5ms/sample - loss: 0.0541 - accuracy: 0.9875 - val_loss: 0.1951 - val_accuracy: 0.9567\n",
      "Epoch 22/30\n",
      "3506/3506 [==============================] - 16s 5ms/sample - loss: 0.0509 - accuracy: 0.9869 - val_loss: 0.2328 - val_accuracy: 0.9624\n",
      "Epoch 23/30\n",
      "3506/3506 [==============================] - 16s 4ms/sample - loss: 0.0427 - accuracy: 0.9883 - val_loss: 0.1890 - val_accuracy: 0.9544\n",
      "Epoch 24/30\n",
      "3506/3506 [==============================] - 16s 4ms/sample - loss: 0.0401 - accuracy: 0.9875 - val_loss: 0.1620 - val_accuracy: 0.9692\n",
      "Epoch 25/30\n",
      "3506/3506 [==============================] - 16s 5ms/sample - loss: 0.0431 - accuracy: 0.9869 - val_loss: 0.2158 - val_accuracy: 0.9669\n",
      "Epoch 26/30\n",
      "3506/3506 [==============================] - 16s 5ms/sample - loss: 0.0367 - accuracy: 0.9897 - val_loss: 0.1981 - val_accuracy: 0.9669\n",
      "Epoch 27/30\n",
      "3506/3506 [==============================] - 16s 5ms/sample - loss: 0.0441 - accuracy: 0.9866 - val_loss: 0.1912 - val_accuracy: 0.9669\n",
      "Epoch 28/30\n",
      "3506/3506 [==============================] - 16s 5ms/sample - loss: 0.0389 - accuracy: 0.9877 - val_loss: 0.1864 - val_accuracy: 0.9681\n",
      "Epoch 29/30\n",
      "3506/3506 [==============================] - 16s 5ms/sample - loss: 0.0486 - accuracy: 0.9855 - val_loss: 0.1852 - val_accuracy: 0.9681\n",
      "Epoch 30/30\n",
      "3506/3506 [==============================] - 16s 5ms/sample - loss: 0.0444 - accuracy: 0.9863 - val_loss: 0.1843 - val_accuracy: 0.9658\n"
     ]
    },
    {
     "data": {
      "text/plain": [
       "<tensorflow.python.keras.callbacks.History at 0x2970eea8d48>"
      ]
     },
     "execution_count": 31,
     "metadata": {},
     "output_type": "execute_result"
    }
   ],
   "source": [
    "final_model.fit(X_train, y_train, validation_data = (X_test, y_test), \n",
    "               epochs = 30, batch_size = 64)"
   ]
  },
  {
   "cell_type": "code",
   "execution_count": 21,
   "id": "d3ecd1df",
   "metadata": {},
   "outputs": [],
   "source": [
    "from tensorflow.keras.applications import Xception, ResNet152, InceptionV3, NASNetLarge"
   ]
  },
  {
   "cell_type": "code",
   "execution_count": 33,
   "id": "eef321bf",
   "metadata": {},
   "outputs": [],
   "source": [
    "headmodel = Xception(weights = \"imagenet\", include_top = False,\n",
    "             input_tensor = Input(shape = (224, 224, 3)))\n",
    "model = headmodel.output\n",
    "model = AveragePooling2D(pool_size= (5, 5))(model)\n",
    "model = Flatten(name = 'flatten')(model)\n",
    "model = Dense(512, activation = 'relu')(model)\n",
    "model = Dropout(0.2)(model)\n",
    "model = Dense(len(Labels), activation = 'softmax')(model)\n",
    "\n",
    "final_model = Model(inputs = headmodel.input, outputs = model)\n",
    "\n",
    "for layer in headmodel.layers:\n",
    "    layer.trainable = False"
   ]
  },
  {
   "cell_type": "code",
   "execution_count": 34,
   "id": "3b16efa2",
   "metadata": {},
   "outputs": [],
   "source": [
    "opt = Adam(lr = 1e-3)\n",
    "final_model.compile(loss = \"categorical_crossentropy\", optimizer = opt,\n",
    "                   metrics = [\"accuracy\"])"
   ]
  },
  {
   "cell_type": "code",
   "execution_count": 35,
   "id": "e546f2c0",
   "metadata": {},
   "outputs": [
    {
     "name": "stdout",
     "output_type": "stream",
     "text": [
      "Train on 3506 samples, validate on 877 samples\n",
      "Epoch 1/30\n",
      "WARNING:tensorflow:Entity <function Function._initialize_uninitialized_variables.<locals>.initialize_variables at 0x00000299626AF828> could not be transformed and will be executed as-is. Please report this to the AutoGraph team. When filing the bug, set the verbosity to 10 (on Linux, `export AUTOGRAPH_VERBOSITY=10`) and attach the full output. Cause: No module named 'tensorflow_core.estimator'\n",
      "WARNING: Entity <function Function._initialize_uninitialized_variables.<locals>.initialize_variables at 0x00000299626AF828> could not be transformed and will be executed as-is. Please report this to the AutoGraph team. When filing the bug, set the verbosity to 10 (on Linux, `export AUTOGRAPH_VERBOSITY=10`) and attach the full output. Cause: No module named 'tensorflow_core.estimator'\n",
      "3506/3506 [==============================] - 17s 5ms/sample - loss: 0.7773 - accuracy: 0.7151 - val_loss: 27.5259 - val_accuracy: 0.2440\n",
      "Epoch 2/30\n",
      "3506/3506 [==============================] - 10s 3ms/sample - loss: 0.4292 - accuracy: 0.8574 - val_loss: 39.5662 - val_accuracy: 0.3022\n",
      "Epoch 3/30\n",
      "3506/3506 [==============================] - 11s 3ms/sample - loss: 0.3127 - accuracy: 0.8990 - val_loss: 55.7753 - val_accuracy: 0.2953\n",
      "Epoch 4/30\n",
      "3506/3506 [==============================] - 11s 3ms/sample - loss: 0.2099 - accuracy: 0.9373 - val_loss: 65.4434 - val_accuracy: 0.3044\n",
      "Epoch 5/30\n",
      "3506/3506 [==============================] - 11s 3ms/sample - loss: 0.1881 - accuracy: 0.9481 - val_loss: 63.2203 - val_accuracy: 0.3181\n",
      "Epoch 6/30\n",
      "3506/3506 [==============================] - 11s 3ms/sample - loss: 0.1249 - accuracy: 0.9675 - val_loss: 74.6631 - val_accuracy: 0.3113\n",
      "Epoch 7/30\n",
      "3506/3506 [==============================] - 11s 3ms/sample - loss: 0.1276 - accuracy: 0.9652 - val_loss: 89.7718 - val_accuracy: 0.3113\n",
      "Epoch 8/30\n",
      "3506/3506 [==============================] - 11s 3ms/sample - loss: 0.0937 - accuracy: 0.9792 - val_loss: 102.9530 - val_accuracy: 0.3056\n",
      "Epoch 9/30\n",
      "3506/3506 [==============================] - 12s 3ms/sample - loss: 0.0774 - accuracy: 0.9809 - val_loss: 103.6781 - val_accuracy: 0.2987\n",
      "Epoch 10/30\n",
      "3506/3506 [==============================] - 12s 3ms/sample - loss: 0.0914 - accuracy: 0.9746 - val_loss: 136.7038 - val_accuracy: 0.2999\n",
      "Epoch 11/30\n",
      "3506/3506 [==============================] - 12s 3ms/sample - loss: 0.0822 - accuracy: 0.9746 - val_loss: 111.3874 - val_accuracy: 0.2976\n",
      "Epoch 12/30\n",
      "3506/3506 [==============================] - 12s 3ms/sample - loss: 0.0648 - accuracy: 0.9832 - val_loss: 128.2442 - val_accuracy: 0.2999\n",
      "Epoch 13/30\n",
      "3506/3506 [==============================] - 12s 3ms/sample - loss: 0.0634 - accuracy: 0.9835 - val_loss: 126.6903 - val_accuracy: 0.3022\n",
      "Epoch 14/30\n",
      "3506/3506 [==============================] - 12s 3ms/sample - loss: 0.0530 - accuracy: 0.9869 - val_loss: 130.0167 - val_accuracy: 0.2987\n",
      "Epoch 15/30\n",
      "3506/3506 [==============================] - 12s 3ms/sample - loss: 0.0594 - accuracy: 0.9829 - val_loss: 125.7127 - val_accuracy: 0.3147\n",
      "Epoch 16/30\n",
      "3506/3506 [==============================] - 12s 3ms/sample - loss: 0.0664 - accuracy: 0.9820 - val_loss: 122.8192 - val_accuracy: 0.3067\n",
      "Epoch 17/30\n",
      "3506/3506 [==============================] - 12s 3ms/sample - loss: 0.0503 - accuracy: 0.9886 - val_loss: 149.4171 - val_accuracy: 0.3090\n",
      "Epoch 18/30\n",
      "3506/3506 [==============================] - 12s 3ms/sample - loss: 0.0515 - accuracy: 0.9860 - val_loss: 133.5072 - val_accuracy: 0.3044\n",
      "Epoch 19/30\n",
      "3506/3506 [==============================] - 12s 3ms/sample - loss: 0.0513 - accuracy: 0.9863 - val_loss: 143.0017 - val_accuracy: 0.2953\n",
      "Epoch 20/30\n",
      "3506/3506 [==============================] - 12s 4ms/sample - loss: 0.0520 - accuracy: 0.9860 - val_loss: 144.6601 - val_accuracy: 0.2976\n",
      "Epoch 21/30\n",
      "3506/3506 [==============================] - 12s 3ms/sample - loss: 0.0382 - accuracy: 0.9875 - val_loss: 133.2598 - val_accuracy: 0.3044\n",
      "Epoch 22/30\n",
      "3506/3506 [==============================] - 12s 3ms/sample - loss: 0.0383 - accuracy: 0.9892 - val_loss: 149.6390 - val_accuracy: 0.3079\n",
      "Epoch 23/30\n",
      "3506/3506 [==============================] - 12s 3ms/sample - loss: 0.0412 - accuracy: 0.9886 - val_loss: 161.2478 - val_accuracy: 0.3101\n",
      "Epoch 24/30\n",
      "3506/3506 [==============================] - 12s 3ms/sample - loss: 0.0551 - accuracy: 0.9832 - val_loss: 147.1435 - val_accuracy: 0.3147\n",
      "Epoch 25/30\n",
      "3506/3506 [==============================] - 12s 3ms/sample - loss: 0.0421 - accuracy: 0.9872 - val_loss: 151.7960 - val_accuracy: 0.3022\n",
      "Epoch 26/30\n",
      "3506/3506 [==============================] - 12s 3ms/sample - loss: 0.0459 - accuracy: 0.9872 - val_loss: 148.8793 - val_accuracy: 0.3113\n",
      "Epoch 27/30\n",
      "3506/3506 [==============================] - 12s 3ms/sample - loss: 0.0426 - accuracy: 0.9889 - val_loss: 153.9837 - val_accuracy: 0.2976\n",
      "Epoch 28/30\n",
      "3506/3506 [==============================] - 12s 3ms/sample - loss: 0.0481 - accuracy: 0.9863 - val_loss: 158.5858 - val_accuracy: 0.3010\n",
      "Epoch 29/30\n",
      "3506/3506 [==============================] - 12s 3ms/sample - loss: 0.0547 - accuracy: 0.9812 - val_loss: 158.0332 - val_accuracy: 0.3010\n",
      "Epoch 30/30\n",
      "3506/3506 [==============================] - 12s 3ms/sample - loss: 0.0545 - accuracy: 0.9837 - val_loss: 144.5114 - val_accuracy: 0.3124loss: 0.0501 - ac\n"
     ]
    },
    {
     "data": {
      "text/plain": [
       "<tensorflow.python.keras.callbacks.History at 0x299622424c8>"
      ]
     },
     "execution_count": 35,
     "metadata": {},
     "output_type": "execute_result"
    }
   ],
   "source": [
    "final_model.fit(X_train, y_train, validation_data = (X_test, y_test), \n",
    "               epochs = 30, batch_size = 64)"
   ]
  },
  {
   "cell_type": "markdown",
   "id": "82ac4d23",
   "metadata": {},
   "source": [
    "## InceptionV3 Network\n",
    "\n",
    "In the below cells, InceptionV3 network would be implemented with the weights taken from imagenet data. Inception weights are not trained and additional layers that are added on top of inception are trained to help us get the output for our prediction of disease in wheat. "
   ]
  },
  {
   "cell_type": "code",
   "execution_count": null,
   "id": "9e035a16",
   "metadata": {},
   "outputs": [
    {
     "name": "stdout",
     "output_type": "stream",
     "text": [
      "Downloading data from https://github.com/fchollet/deep-learning-models/releases/download/v0.5/inception_v3_weights_tf_dim_ordering_tf_kernels_notop.h5\n",
      "87916544/87910968 [==============================] - 2s 0us/step\n"
     ]
    },
    {
     "name": "stderr",
     "output_type": "stream",
     "text": [
      "ERROR:root:Internal Python error in the inspect module.\n",
      "Below is the traceback from this internal error.\n",
      "\n",
      "ERROR:root:Internal Python error in the inspect module.\n",
      "Below is the traceback from this internal error.\n",
      "\n",
      "ERROR:root:Internal Python error in the inspect module.\n",
      "Below is the traceback from this internal error.\n",
      "\n"
     ]
    },
    {
     "name": "stdout",
     "output_type": "stream",
     "text": [
      "Traceback (most recent call last):\n",
      "  File \"C:\\Anaconda\\envs\\gpu_test\\lib\\site-packages\\IPython\\core\\interactiveshell.py\", line 3457, in run_code\n",
      "    exec(code_obj, self.user_global_ns, self.user_ns)\n",
      "  File \"C:\\Users\\SUHASM~1\\AppData\\Local\\Temp/ipykernel_1144/2610945554.py\", line 2, in <module>\n",
      "    input_tensor = Input(shape = (224, 224, 3)))\n",
      "  File \"C:\\Anaconda\\envs\\gpu_test\\lib\\site-packages\\tensorflow_core\\python\\keras\\applications\\__init__.py\", line 49, in wrapper\n",
      "    return base_fun(*args, **kwargs)\n",
      "  File \"C:\\Anaconda\\envs\\gpu_test\\lib\\site-packages\\tensorflow_core\\python\\keras\\applications\\inception_v3.py\", line 32, in InceptionV3\n",
      "    return inception_v3.InceptionV3(*args, **kwargs)\n",
      "  File \"C:\\Anaconda\\envs\\gpu_test\\lib\\site-packages\\keras_applications\\inception_v3.py\", line 391, in InceptionV3\n",
      "    model.load_weights(weights_path)\n",
      "  File \"C:\\Anaconda\\envs\\gpu_test\\lib\\site-packages\\tensorflow_core\\python\\keras\\engine\\training.py\", line 181, in load_weights\n",
      "    return super(Model, self).load_weights(filepath, by_name)\n",
      "  File \"C:\\Anaconda\\envs\\gpu_test\\lib\\site-packages\\tensorflow_core\\python\\keras\\engine\\network.py\", line 1177, in load_weights\n",
      "    saving.load_weights_from_hdf5_group(f, self.layers)\n",
      "  File \"C:\\Anaconda\\envs\\gpu_test\\lib\\site-packages\\tensorflow_core\\python\\keras\\saving\\hdf5_format.py\", line 651, in load_weights_from_hdf5_group\n",
      "    original_keras_version = f.attrs['keras_version'].decode('utf8')\n",
      "AttributeError: 'str' object has no attribute 'decode'\n",
      "\n",
      "During handling of the above exception, another exception occurred:\n",
      "\n",
      "Traceback (most recent call last):\n",
      "  File \"C:\\Anaconda\\envs\\gpu_test\\lib\\site-packages\\IPython\\core\\interactiveshell.py\", line 2077, in showtraceback\n",
      "    stb = value._render_traceback_()\n",
      "AttributeError: 'AttributeError' object has no attribute '_render_traceback_'\n",
      "\n",
      "During handling of the above exception, another exception occurred:\n",
      "\n",
      "Traceback (most recent call last):\n",
      "  File \"C:\\Anaconda\\envs\\gpu_test\\lib\\site-packages\\IPython\\core\\ultratb.py\", line 1101, in get_records\n",
      "    return _fixed_getinnerframes(etb, number_of_lines_of_context, tb_offset)\n",
      "  File \"C:\\Anaconda\\envs\\gpu_test\\lib\\site-packages\\IPython\\core\\ultratb.py\", line 248, in wrapped\n",
      "    return f(*args, **kwargs)\n",
      "  File \"C:\\Anaconda\\envs\\gpu_test\\lib\\site-packages\\IPython\\core\\ultratb.py\", line 281, in _fixed_getinnerframes\n",
      "    records = fix_frame_records_filenames(inspect.getinnerframes(etb, context))\n",
      "  File \"C:\\Anaconda\\envs\\gpu_test\\lib\\inspect.py\", line 1502, in getinnerframes\n",
      "    frameinfo = (tb.tb_frame,) + getframeinfo(tb, context)\n",
      "  File \"C:\\Anaconda\\envs\\gpu_test\\lib\\inspect.py\", line 1460, in getframeinfo\n",
      "    filename = getsourcefile(frame) or getfile(frame)\n",
      "  File \"C:\\Anaconda\\envs\\gpu_test\\lib\\inspect.py\", line 696, in getsourcefile\n",
      "    if getattr(getmodule(object, filename), '__loader__', None) is not None:\n",
      "  File \"C:\\Anaconda\\envs\\gpu_test\\lib\\inspect.py\", line 733, in getmodule\n",
      "    if ismodule(module) and hasattr(module, '__file__'):\n",
      "  File \"C:\\Anaconda\\envs\\gpu_test\\lib\\site-packages\\tensorflow\\__init__.py\", line 50, in __getattr__\n",
      "    module = self._load()\n",
      "  File \"C:\\Anaconda\\envs\\gpu_test\\lib\\site-packages\\tensorflow\\__init__.py\", line 44, in _load\n",
      "    module = _importlib.import_module(self.__name__)\n",
      "  File \"C:\\Anaconda\\envs\\gpu_test\\lib\\importlib\\__init__.py\", line 127, in import_module\n",
      "    return _bootstrap._gcd_import(name[level:], package, level)\n",
      "  File \"<frozen importlib._bootstrap>\", line 1006, in _gcd_import\n",
      "  File \"<frozen importlib._bootstrap>\", line 983, in _find_and_load\n",
      "  File \"<frozen importlib._bootstrap>\", line 965, in _find_and_load_unlocked\n",
      "ModuleNotFoundError: No module named 'tensorflow_core.estimator'\n",
      "Traceback (most recent call last):\n",
      "  File \"C:\\Anaconda\\envs\\gpu_test\\lib\\site-packages\\IPython\\core\\interactiveshell.py\", line 3457, in run_code\n",
      "    exec(code_obj, self.user_global_ns, self.user_ns)\n",
      "  File \"C:\\Users\\SUHASM~1\\AppData\\Local\\Temp/ipykernel_1144/2610945554.py\", line 2, in <module>\n",
      "    input_tensor = Input(shape = (224, 224, 3)))\n",
      "  File \"C:\\Anaconda\\envs\\gpu_test\\lib\\site-packages\\tensorflow_core\\python\\keras\\applications\\__init__.py\", line 49, in wrapper\n",
      "    return base_fun(*args, **kwargs)\n",
      "  File \"C:\\Anaconda\\envs\\gpu_test\\lib\\site-packages\\tensorflow_core\\python\\keras\\applications\\inception_v3.py\", line 32, in InceptionV3\n",
      "    return inception_v3.InceptionV3(*args, **kwargs)\n",
      "  File \"C:\\Anaconda\\envs\\gpu_test\\lib\\site-packages\\keras_applications\\inception_v3.py\", line 391, in InceptionV3\n",
      "    model.load_weights(weights_path)\n",
      "  File \"C:\\Anaconda\\envs\\gpu_test\\lib\\site-packages\\tensorflow_core\\python\\keras\\engine\\training.py\", line 181, in load_weights\n",
      "    return super(Model, self).load_weights(filepath, by_name)\n",
      "  File \"C:\\Anaconda\\envs\\gpu_test\\lib\\site-packages\\tensorflow_core\\python\\keras\\engine\\network.py\", line 1177, in load_weights\n",
      "    saving.load_weights_from_hdf5_group(f, self.layers)\n",
      "  File \"C:\\Anaconda\\envs\\gpu_test\\lib\\site-packages\\tensorflow_core\\python\\keras\\saving\\hdf5_format.py\", line 651, in load_weights_from_hdf5_group\n",
      "    original_keras_version = f.attrs['keras_version'].decode('utf8')\n",
      "AttributeError: 'str' object has no attribute 'decode'\n",
      "\n",
      "During handling of the above exception, another exception occurred:\n",
      "\n",
      "Traceback (most recent call last):\n",
      "  File \"C:\\Anaconda\\envs\\gpu_test\\lib\\site-packages\\IPython\\core\\interactiveshell.py\", line 2077, in showtraceback\n",
      "    stb = value._render_traceback_()\n",
      "AttributeError: 'AttributeError' object has no attribute '_render_traceback_'\n",
      "\n",
      "During handling of the above exception, another exception occurred:\n",
      "\n",
      "Traceback (most recent call last):\n",
      "  File \"C:\\Anaconda\\envs\\gpu_test\\lib\\site-packages\\IPython\\core\\interactiveshell.py\", line 3377, in run_ast_nodes\n",
      "    if (await self.run_code(code, result,  async_=asy)):\n",
      "  File \"C:\\Anaconda\\envs\\gpu_test\\lib\\site-packages\\IPython\\core\\interactiveshell.py\", line 3474, in run_code\n",
      "    self.showtraceback(running_compiled_code=True)\n",
      "  File \"C:\\Anaconda\\envs\\gpu_test\\lib\\site-packages\\IPython\\core\\interactiveshell.py\", line 2080, in showtraceback\n",
      "    value, tb, tb_offset=tb_offset)\n",
      "  File \"C:\\Anaconda\\envs\\gpu_test\\lib\\site-packages\\IPython\\core\\ultratb.py\", line 1368, in structured_traceback\n",
      "    self, etype, value, tb, tb_offset, number_of_lines_of_context)\n",
      "  File \"C:\\Anaconda\\envs\\gpu_test\\lib\\site-packages\\IPython\\core\\ultratb.py\", line 1268, in structured_traceback\n",
      "    self, etype, value, tb, tb_offset, number_of_lines_of_context\n",
      "  File \"C:\\Anaconda\\envs\\gpu_test\\lib\\site-packages\\IPython\\core\\ultratb.py\", line 1125, in structured_traceback\n",
      "    tb_offset)\n",
      "  File \"C:\\Anaconda\\envs\\gpu_test\\lib\\site-packages\\IPython\\core\\ultratb.py\", line 1082, in format_exception_as_a_whole\n",
      "    last_unique, recursion_repeat = find_recursion(orig_etype, evalue, records)\n",
      "  File \"C:\\Anaconda\\envs\\gpu_test\\lib\\site-packages\\IPython\\core\\ultratb.py\", line 382, in find_recursion\n",
      "    return len(records), 0\n",
      "TypeError: object of type 'NoneType' has no len()\n",
      "\n",
      "During handling of the above exception, another exception occurred:\n",
      "\n",
      "Traceback (most recent call last):\n",
      "  File \"C:\\Anaconda\\envs\\gpu_test\\lib\\site-packages\\IPython\\core\\interactiveshell.py\", line 2077, in showtraceback\n",
      "    stb = value._render_traceback_()\n",
      "AttributeError: 'TypeError' object has no attribute '_render_traceback_'\n",
      "\n",
      "During handling of the above exception, another exception occurred:\n",
      "\n",
      "Traceback (most recent call last):\n",
      "  File \"C:\\Anaconda\\envs\\gpu_test\\lib\\site-packages\\IPython\\core\\ultratb.py\", line 1101, in get_records\n",
      "    return _fixed_getinnerframes(etb, number_of_lines_of_context, tb_offset)\n",
      "  File \"C:\\Anaconda\\envs\\gpu_test\\lib\\site-packages\\IPython\\core\\ultratb.py\", line 248, in wrapped\n",
      "    return f(*args, **kwargs)\n",
      "  File \"C:\\Anaconda\\envs\\gpu_test\\lib\\site-packages\\IPython\\core\\ultratb.py\", line 281, in _fixed_getinnerframes\n",
      "    records = fix_frame_records_filenames(inspect.getinnerframes(etb, context))\n",
      "  File \"C:\\Anaconda\\envs\\gpu_test\\lib\\inspect.py\", line 1502, in getinnerframes\n",
      "    frameinfo = (tb.tb_frame,) + getframeinfo(tb, context)\n",
      "  File \"C:\\Anaconda\\envs\\gpu_test\\lib\\inspect.py\", line 1460, in getframeinfo\n",
      "    filename = getsourcefile(frame) or getfile(frame)\n",
      "  File \"C:\\Anaconda\\envs\\gpu_test\\lib\\inspect.py\", line 696, in getsourcefile\n",
      "    if getattr(getmodule(object, filename), '__loader__', None) is not None:\n",
      "  File \"C:\\Anaconda\\envs\\gpu_test\\lib\\inspect.py\", line 733, in getmodule\n",
      "    if ismodule(module) and hasattr(module, '__file__'):\n",
      "  File \"C:\\Anaconda\\envs\\gpu_test\\lib\\site-packages\\tensorflow\\__init__.py\", line 50, in __getattr__\n",
      "    module = self._load()\n",
      "  File \"C:\\Anaconda\\envs\\gpu_test\\lib\\site-packages\\tensorflow\\__init__.py\", line 44, in _load\n",
      "    module = _importlib.import_module(self.__name__)\n",
      "  File \"C:\\Anaconda\\envs\\gpu_test\\lib\\importlib\\__init__.py\", line 127, in import_module\n",
      "    return _bootstrap._gcd_import(name[level:], package, level)\n",
      "  File \"<frozen importlib._bootstrap>\", line 1006, in _gcd_import\n",
      "  File \"<frozen importlib._bootstrap>\", line 983, in _find_and_load\n",
      "  File \"<frozen importlib._bootstrap>\", line 965, in _find_and_load_unlocked\n",
      "ModuleNotFoundError: No module named 'tensorflow_core.estimator'\n"
     ]
    },
    {
     "name": "stdout",
     "output_type": "stream",
     "text": [
      "Traceback (most recent call last):\n",
      "  File \"C:\\Anaconda\\envs\\gpu_test\\lib\\site-packages\\IPython\\core\\interactiveshell.py\", line 3457, in run_code\n",
      "    exec(code_obj, self.user_global_ns, self.user_ns)\n",
      "  File \"C:\\Users\\SUHASM~1\\AppData\\Local\\Temp/ipykernel_1144/2610945554.py\", line 2, in <module>\n",
      "    input_tensor = Input(shape = (224, 224, 3)))\n",
      "  File \"C:\\Anaconda\\envs\\gpu_test\\lib\\site-packages\\tensorflow_core\\python\\keras\\applications\\__init__.py\", line 49, in wrapper\n",
      "    return base_fun(*args, **kwargs)\n",
      "  File \"C:\\Anaconda\\envs\\gpu_test\\lib\\site-packages\\tensorflow_core\\python\\keras\\applications\\inception_v3.py\", line 32, in InceptionV3\n",
      "    return inception_v3.InceptionV3(*args, **kwargs)\n",
      "  File \"C:\\Anaconda\\envs\\gpu_test\\lib\\site-packages\\keras_applications\\inception_v3.py\", line 391, in InceptionV3\n",
      "    model.load_weights(weights_path)\n",
      "  File \"C:\\Anaconda\\envs\\gpu_test\\lib\\site-packages\\tensorflow_core\\python\\keras\\engine\\training.py\", line 181, in load_weights\n",
      "    return super(Model, self).load_weights(filepath, by_name)\n",
      "  File \"C:\\Anaconda\\envs\\gpu_test\\lib\\site-packages\\tensorflow_core\\python\\keras\\engine\\network.py\", line 1177, in load_weights\n",
      "    saving.load_weights_from_hdf5_group(f, self.layers)\n",
      "  File \"C:\\Anaconda\\envs\\gpu_test\\lib\\site-packages\\tensorflow_core\\python\\keras\\saving\\hdf5_format.py\", line 651, in load_weights_from_hdf5_group\n",
      "    original_keras_version = f.attrs['keras_version'].decode('utf8')\n",
      "AttributeError: 'str' object has no attribute 'decode'\n",
      "\n",
      "During handling of the above exception, another exception occurred:\n",
      "\n",
      "Traceback (most recent call last):\n",
      "  File \"C:\\Anaconda\\envs\\gpu_test\\lib\\site-packages\\IPython\\core\\interactiveshell.py\", line 2077, in showtraceback\n",
      "    stb = value._render_traceback_()\n",
      "AttributeError: 'AttributeError' object has no attribute '_render_traceback_'\n",
      "\n",
      "During handling of the above exception, another exception occurred:\n",
      "\n",
      "Traceback (most recent call last):\n",
      "  File \"C:\\Anaconda\\envs\\gpu_test\\lib\\site-packages\\IPython\\core\\interactiveshell.py\", line 3377, in run_ast_nodes\n",
      "    if (await self.run_code(code, result,  async_=asy)):\n",
      "  File \"C:\\Anaconda\\envs\\gpu_test\\lib\\site-packages\\IPython\\core\\interactiveshell.py\", line 3474, in run_code\n",
      "    self.showtraceback(running_compiled_code=True)\n",
      "  File \"C:\\Anaconda\\envs\\gpu_test\\lib\\site-packages\\IPython\\core\\interactiveshell.py\", line 2080, in showtraceback\n",
      "    value, tb, tb_offset=tb_offset)\n",
      "  File \"C:\\Anaconda\\envs\\gpu_test\\lib\\site-packages\\IPython\\core\\ultratb.py\", line 1368, in structured_traceback\n",
      "    self, etype, value, tb, tb_offset, number_of_lines_of_context)\n",
      "  File \"C:\\Anaconda\\envs\\gpu_test\\lib\\site-packages\\IPython\\core\\ultratb.py\", line 1268, in structured_traceback\n",
      "    self, etype, value, tb, tb_offset, number_of_lines_of_context\n",
      "  File \"C:\\Anaconda\\envs\\gpu_test\\lib\\site-packages\\IPython\\core\\ultratb.py\", line 1125, in structured_traceback\n",
      "    tb_offset)\n",
      "  File \"C:\\Anaconda\\envs\\gpu_test\\lib\\site-packages\\IPython\\core\\ultratb.py\", line 1082, in format_exception_as_a_whole\n",
      "    last_unique, recursion_repeat = find_recursion(orig_etype, evalue, records)\n",
      "  File \"C:\\Anaconda\\envs\\gpu_test\\lib\\site-packages\\IPython\\core\\ultratb.py\", line 382, in find_recursion\n",
      "    return len(records), 0\n",
      "TypeError: object of type 'NoneType' has no len()\n",
      "\n",
      "During handling of the above exception, another exception occurred:\n",
      "\n",
      "Traceback (most recent call last):\n",
      "  File \"C:\\Anaconda\\envs\\gpu_test\\lib\\site-packages\\IPython\\core\\interactiveshell.py\", line 2077, in showtraceback\n",
      "    stb = value._render_traceback_()\n",
      "AttributeError: 'TypeError' object has no attribute '_render_traceback_'\n",
      "\n",
      "During handling of the above exception, another exception occurred:\n",
      "\n",
      "Traceback (most recent call last):\n",
      "  File \"C:\\Anaconda\\envs\\gpu_test\\lib\\site-packages\\IPython\\core\\interactiveshell.py\", line 2960, in _run_cell\n",
      "    return runner(coro)\n",
      "  File \"C:\\Anaconda\\envs\\gpu_test\\lib\\site-packages\\IPython\\core\\async_helpers.py\", line 78, in _pseudo_sync_runner\n",
      "    coro.send(None)\n",
      "  File \"C:\\Anaconda\\envs\\gpu_test\\lib\\site-packages\\IPython\\core\\interactiveshell.py\", line 3186, in run_cell_async\n",
      "    interactivity=interactivity, compiler=compiler, result=result)\n",
      "  File \"C:\\Anaconda\\envs\\gpu_test\\lib\\site-packages\\IPython\\core\\interactiveshell.py\", line 3396, in run_ast_nodes\n",
      "    self.showtraceback()\n",
      "  File \"C:\\Anaconda\\envs\\gpu_test\\lib\\site-packages\\IPython\\core\\interactiveshell.py\", line 2080, in showtraceback\n",
      "    value, tb, tb_offset=tb_offset)\n",
      "  File \"C:\\Anaconda\\envs\\gpu_test\\lib\\site-packages\\IPython\\core\\ultratb.py\", line 1368, in structured_traceback\n",
      "    self, etype, value, tb, tb_offset, number_of_lines_of_context)\n",
      "  File \"C:\\Anaconda\\envs\\gpu_test\\lib\\site-packages\\IPython\\core\\ultratb.py\", line 1268, in structured_traceback\n",
      "    self, etype, value, tb, tb_offset, number_of_lines_of_context\n",
      "  File \"C:\\Anaconda\\envs\\gpu_test\\lib\\site-packages\\IPython\\core\\ultratb.py\", line 1143, in structured_traceback\n",
      "    chained_exceptions_tb_offset)\n",
      "  File \"C:\\Anaconda\\envs\\gpu_test\\lib\\site-packages\\IPython\\core\\ultratb.py\", line 1082, in format_exception_as_a_whole\n",
      "    last_unique, recursion_repeat = find_recursion(orig_etype, evalue, records)\n",
      "  File \"C:\\Anaconda\\envs\\gpu_test\\lib\\site-packages\\IPython\\core\\ultratb.py\", line 382, in find_recursion\n",
      "    return len(records), 0\n",
      "TypeError: object of type 'NoneType' has no len()\n",
      "\n",
      "During handling of the above exception, another exception occurred:\n",
      "\n",
      "Traceback (most recent call last):\n",
      "  File \"C:\\Anaconda\\envs\\gpu_test\\lib\\site-packages\\IPython\\core\\interactiveshell.py\", line 2077, in showtraceback\n",
      "    stb = value._render_traceback_()\n",
      "AttributeError: 'TypeError' object has no attribute '_render_traceback_'\n",
      "\n",
      "During handling of the above exception, another exception occurred:\n",
      "\n",
      "Traceback (most recent call last):\n",
      "  File \"C:\\Anaconda\\envs\\gpu_test\\lib\\site-packages\\IPython\\core\\ultratb.py\", line 1101, in get_records\n",
      "    return _fixed_getinnerframes(etb, number_of_lines_of_context, tb_offset)\n",
      "  File \"C:\\Anaconda\\envs\\gpu_test\\lib\\site-packages\\IPython\\core\\ultratb.py\", line 248, in wrapped\n",
      "    return f(*args, **kwargs)\n",
      "  File \"C:\\Anaconda\\envs\\gpu_test\\lib\\site-packages\\IPython\\core\\ultratb.py\", line 281, in _fixed_getinnerframes\n",
      "    records = fix_frame_records_filenames(inspect.getinnerframes(etb, context))\n",
      "  File \"C:\\Anaconda\\envs\\gpu_test\\lib\\inspect.py\", line 1502, in getinnerframes\n",
      "    frameinfo = (tb.tb_frame,) + getframeinfo(tb, context)\n",
      "  File \"C:\\Anaconda\\envs\\gpu_test\\lib\\inspect.py\", line 1460, in getframeinfo\n",
      "    filename = getsourcefile(frame) or getfile(frame)\n",
      "  File \"C:\\Anaconda\\envs\\gpu_test\\lib\\inspect.py\", line 696, in getsourcefile\n",
      "    if getattr(getmodule(object, filename), '__loader__', None) is not None:\n",
      "  File \"C:\\Anaconda\\envs\\gpu_test\\lib\\inspect.py\", line 733, in getmodule\n",
      "    if ismodule(module) and hasattr(module, '__file__'):\n",
      "  File \"C:\\Anaconda\\envs\\gpu_test\\lib\\site-packages\\tensorflow\\__init__.py\", line 50, in __getattr__\n",
      "    module = self._load()\n",
      "  File \"C:\\Anaconda\\envs\\gpu_test\\lib\\site-packages\\tensorflow\\__init__.py\", line 44, in _load\n",
      "    module = _importlib.import_module(self.__name__)\n",
      "  File \"C:\\Anaconda\\envs\\gpu_test\\lib\\importlib\\__init__.py\", line 127, in import_module\n",
      "    return _bootstrap._gcd_import(name[level:], package, level)\n",
      "  File \"<frozen importlib._bootstrap>\", line 1006, in _gcd_import\n",
      "  File \"<frozen importlib._bootstrap>\", line 983, in _find_and_load\n",
      "  File \"<frozen importlib._bootstrap>\", line 965, in _find_and_load_unlocked\n",
      "ModuleNotFoundError: No module named 'tensorflow_core.estimator'\n"
     ]
    }
   ],
   "source": [
    "headmodel = InceptionV3(weights = \"imagenet\", include_top = False,\n",
    "             input_tensor = Input(shape = (224, 224, 3)))\n",
    "model = headmodel.output\n",
    "model = AveragePooling2D(pool_size= (5, 5))(model)\n",
    "model = Flatten(name = 'flatten')(model)\n",
    "model = Dense(512, activation = 'relu')(model)\n",
    "model = Dropout(0.2)(model)\n",
    "model = Dense(len(Labels), activation = 'softmax')(model)\n",
    "\n",
    "final_model = Model(inputs = headmodel.input, outputs = model)\n",
    "\n",
    "for layer in headmodel.layers:\n",
    "    layer.trainable = False"
   ]
  },
  {
   "cell_type": "code",
   "execution_count": 36,
   "id": "1abcf011",
   "metadata": {},
   "outputs": [
    {
     "name": "stdout",
     "output_type": "stream",
     "text": [
      "ERROR! Session/line number was not unique in database. History logging moved to new session 786\n"
     ]
    }
   ],
   "source": [
    "opt = Adam(lr = 1e-3)\n",
    "final_model.compile(loss = \"categorical_crossentropy\", optimizer = opt,\n",
    "                   metrics = [\"accuracy\"])"
   ]
  },
  {
   "cell_type": "code",
   "execution_count": null,
   "id": "44ce4714",
   "metadata": {},
   "outputs": [],
   "source": [
    "final_model.fit(X_train, y_train, validation_data = (X_test, y_test), \n",
    "               epochs = 30, batch_size = 64)"
   ]
  },
  {
   "cell_type": "markdown",
   "id": "5c8e6001",
   "metadata": {},
   "source": [
    "## ResNet152 Network\n",
    "\n",
    "ResNet152 is used to check the performance of the models. "
   ]
  },
  {
   "cell_type": "code",
   "execution_count": null,
   "id": "6b19cc24",
   "metadata": {},
   "outputs": [],
   "source": [
    "headmodel = ResNet152(weights = \"imagenet\", include_top = False,\n",
    "             input_tensor = Input(shape = (224, 224, 3)))\n",
    "model = headmodel.output\n",
    "model = AveragePooling2D(pool_size= (5, 5))(model)\n",
    "model = Flatten(name = 'flatten')(model)\n",
    "model = Dense(512, activation = 'relu')(model)\n",
    "model = Dropout(0.2)(model)\n",
    "model = Dense(len(Labels), activation = 'softmax')(model)\n",
    "\n",
    "final_model = Model(inputs = headmodel.input, outputs = model)\n",
    "\n",
    "for layer in headmodel.layers:\n",
    "    layer.trainable = False"
   ]
  },
  {
   "cell_type": "code",
   "execution_count": null,
   "id": "043882bc",
   "metadata": {},
   "outputs": [],
   "source": [
    "opt = Adam(lr = 1e-3)\n",
    "final_model.compile(loss = \"categorical_crossentropy\", optimizer = opt,\n",
    "                   metrics = [\"accuracy\"])"
   ]
  },
  {
   "cell_type": "code",
   "execution_count": null,
   "id": "2be7ec3d",
   "metadata": {},
   "outputs": [],
   "source": [
    "final_model.fit(X_train, y_train, validation_data = (X_test, y_test), \n",
    "               epochs = 30, batch_size = 64)"
   ]
  },
  {
   "cell_type": "code",
   "execution_count": null,
   "id": "ea950462",
   "metadata": {},
   "outputs": [],
   "source": [
    "headmodel = NasNetLarge(weights = \"imagenet\", include_top = False,\n",
    "             input_tensor = Input(shape = (224, 224, 3)))\n",
    "model = headmodel.output\n",
    "model = AveragePooling2D(pool_size= (5, 5))(model)\n",
    "model = Flatten(name = 'flatten')(model)\n",
    "model = Dense(512, activation = 'relu')(model)\n",
    "model = Dropout(0.2)(model)\n",
    "model = Dense(len(Labels), activation = 'softmax')(model)\n",
    "\n",
    "final_model = Model(inputs = headmodel.input, outputs = model)\n",
    "\n",
    "for layer in headmodel.layers:\n",
    "    layer.trainable = False"
   ]
  }
 ],
 "metadata": {
  "kernelspec": {
   "display_name": "Python 3 (ipykernel)",
   "language": "python",
   "name": "python3"
  },
  "language_info": {
   "codemirror_mode": {
    "name": "ipython",
    "version": 3
   },
   "file_extension": ".py",
   "mimetype": "text/x-python",
   "name": "python",
   "nbconvert_exporter": "python",
   "pygments_lexer": "ipython3",
   "version": "3.7.11"
  }
 },
 "nbformat": 4,
 "nbformat_minor": 5
}

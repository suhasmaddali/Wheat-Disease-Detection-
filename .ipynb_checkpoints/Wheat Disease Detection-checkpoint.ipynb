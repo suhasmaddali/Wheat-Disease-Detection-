{
 "cells": [
  {
   "cell_type": "code",
   "execution_count": 3,
   "id": "8cefec58",
   "metadata": {},
   "outputs": [],
   "source": [
    "import numpy as np\n",
    "import pandas as pd\n",
    "import matplotlib.pyplot as plt\n",
    "import warnings\n",
    "warnings.filterwarnings(\"ignore\")\n",
    "%matplotlib inline"
   ]
  },
  {
   "cell_type": "code",
   "execution_count": 4,
   "id": "698dffc6",
   "metadata": {},
   "outputs": [],
   "source": [
    "from sklearn.model_selection import train_test_split"
   ]
  },
  {
   "cell_type": "code",
   "execution_count": 5,
   "id": "74addccc",
   "metadata": {},
   "outputs": [],
   "source": [
    "from tensorflow.keras.optimizers import Adam"
   ]
  },
  {
   "cell_type": "code",
   "execution_count": 6,
   "id": "903398f6",
   "metadata": {},
   "outputs": [],
   "source": [
    "from tensorflow.keras.applications import VGG19, VGG16"
   ]
  },
  {
   "cell_type": "code",
   "execution_count": 8,
   "id": "7d8740ba",
   "metadata": {},
   "outputs": [],
   "source": [
    "import cv2\n",
    "import os \n",
    "import pickle"
   ]
  },
  {
   "cell_type": "code",
   "execution_count": 10,
   "id": "e7396a92",
   "metadata": {},
   "outputs": [],
   "source": [
    "from imutils import paths"
   ]
  },
  {
   "cell_type": "code",
   "execution_count": 11,
   "id": "1434ad26",
   "metadata": {},
   "outputs": [],
   "source": [
    "LABELS = set([\"Crown and Root Rot\", \"Healthy Wheat\", \"Leaf Rust\", \"Wheat Loose Smut\"])"
   ]
  },
  {
   "cell_type": "code",
   "execution_count": 18,
   "id": "999932d7",
   "metadata": {},
   "outputs": [
    {
     "name": "stdout",
     "output_type": "stream",
     "text": [
      "Images/Crown and Root Rot/00041.jpg\n",
      "Images/Crown and Root Rot/00051.jpg\n",
      "Images/Crown and Root Rot/00061.jpg\n",
      "Images/Crown and Root Rot/00071.jpg\n",
      "Images/Crown and Root Rot/00081.png\n"
     ]
    }
   ],
   "source": [
    "count = 0 \n",
    "for images in paths.list_images('Images/Crown and Root Rot/'):\n",
    "    print(images)\n",
    "    count = count + 1\n",
    "    if count == 5:\n",
    "        break"
   ]
  },
  {
   "cell_type": "code",
   "execution_count": 25,
   "id": "1e544d2e",
   "metadata": {},
   "outputs": [],
   "source": [
    "image = cv2.imread('Images/Crown and Root Rot/00041.jpg')\n",
    "image = cv2.cvtColor(image, cv2.COLOR_BGR2RGB)\n",
    "image = cv2.resize(image, (224, 224))"
   ]
  },
  {
   "cell_type": "code",
   "execution_count": 30,
   "id": "ad8ee4f5",
   "metadata": {},
   "outputs": [
    {
     "name": "stdout",
     "output_type": "stream",
     "text": [
      "Images/Crown and Root Rot/00041.jpg\n",
      "Images/Crown and Root Rot/00051.jpg\n",
      "Images/Crown and Root Rot/00061.jpg\n",
      "Images/Crown and Root Rot/00071.jpg\n",
      "Images/Crown and Root Rot/00081.png\n"
     ]
    }
   ],
   "source": [
    "count = 0\n",
    "for images in paths.list_images('Images/Crown and Root Rot/'):\n",
    "    print(images)\n",
    "    count = count + 1\n",
    "    if count == 5:\n",
    "        break"
   ]
  },
  {
   "cell_type": "code",
   "execution_count": 36,
   "id": "76211767",
   "metadata": {},
   "outputs": [],
   "source": [
    "sample_path = list(paths.list_images('Images/Crown and Root Rot/'))[0]"
   ]
  },
  {
   "cell_type": "code",
   "execution_count": 37,
   "id": "22816ee2",
   "metadata": {},
   "outputs": [
    {
     "data": {
      "text/plain": [
       "'Images/Crown and Root Rot/00041.jpg'"
      ]
     },
     "execution_count": 37,
     "metadata": {},
     "output_type": "execute_result"
    }
   ],
   "source": [
    "sample_path"
   ]
  },
  {
   "cell_type": "code",
   "execution_count": 41,
   "id": "4d70ab87",
   "metadata": {},
   "outputs": [
    {
     "data": {
      "text/plain": [
       "['Images', 'Crown and Root Rot', '00041.jpg']"
      ]
     },
     "execution_count": 41,
     "metadata": {},
     "output_type": "execute_result"
    }
   ],
   "source": [
    "sample_path.split('/')"
   ]
  },
  {
   "cell_type": "code",
   "execution_count": 42,
   "id": "86163589",
   "metadata": {},
   "outputs": [
    {
     "data": {
      "text/plain": [
       "['.git',\n",
       " '.gitattributes',\n",
       " '.ipynb_checkpoints',\n",
       " 'Images',\n",
       " 'README.md',\n",
       " 'Wheat Disease Detection.ipynb']"
      ]
     },
     "execution_count": 42,
     "metadata": {},
     "output_type": "execute_result"
    }
   ],
   "source": [
    "os.listdir()"
   ]
  },
  {
   "cell_type": "code",
   "execution_count": 44,
   "id": "3b693b58",
   "metadata": {},
   "outputs": [],
   "source": [
    "Labels = os.listdir('Images')"
   ]
  },
  {
   "cell_type": "code",
   "execution_count": 45,
   "id": "4ff99317",
   "metadata": {},
   "outputs": [
    {
     "name": "stdout",
     "output_type": "stream",
     "text": [
      "['Crown and Root Rot', 'Healthy Wheat', 'Leaf Rust', 'Wheat Loose Smut']\n"
     ]
    }
   ],
   "source": [
    "print(Labels)"
   ]
  },
  {
   "cell_type": "code",
   "execution_count": 46,
   "id": "921f24e4",
   "metadata": {},
   "outputs": [],
   "source": [
    "CROWN_AND_ROOT_ROT_PATH = 'Images/Crown and Root Rot/'\n",
    "HEALTHY_AND_WHEAT_PATH = 'Images/Healthy Wheat/'\n",
    "LEAF_RUST_PATH = 'Images/Leaf Rust/'\n",
    "WHEAT_LOOSE_SMUT_PATH = 'Images/Wheat Loose Smut/'"
   ]
  },
  {
   "cell_type": "code",
   "execution_count": 57,
   "id": "4a56fda0",
   "metadata": {},
   "outputs": [],
   "source": [
    "data = []\n",
    "labels = []\n",
    "for image_path in paths.list_images(CROWN_AND_ROOT_ROT_PATH):\n",
    "    image = cv2.imread(image_path)\n",
    "    image = cv2.cvtColor(image, cv2.COLOR_BGR2RGB)\n",
    "    image = cv2.resize(image, (224, 224))\n",
    "    data.append(image)\n",
    "    \n",
    "    label = image_path.split('/')[-2]\n",
    "    \n",
    "    labels.append(label)\n",
    "    \n",
    "    "
   ]
  },
  {
   "cell_type": "code",
   "execution_count": 58,
   "id": "86d7cfea",
   "metadata": {},
   "outputs": [
    {
     "data": {
      "text/plain": [
       "[array([[[206, 203, 196],\n",
       "         [207, 204, 197],\n",
       "         [207, 204, 197],\n",
       "         ...,\n",
       "         [211, 208, 201],\n",
       "         [211, 208, 203],\n",
       "         [211, 208, 203]],\n",
       " \n",
       "        [[206, 203, 196],\n",
       "         [207, 204, 197],\n",
       "         [207, 204, 197],\n",
       "         ...,\n",
       "         [211, 208, 201],\n",
       "         [211, 208, 203],\n",
       "         [211, 208, 203]],\n",
       " \n",
       "        [[206, 203, 196],\n",
       "         [207, 204, 197],\n",
       "         [207, 204, 197],\n",
       "         ...,\n",
       "         [211, 208, 201],\n",
       "         [211, 208, 203],\n",
       "         [211, 208, 203]],\n",
       " \n",
       "        ...,\n",
       " \n",
       "        [[198, 195, 188],\n",
       "         [200, 197, 190],\n",
       "         [201, 198, 191],\n",
       "         ...,\n",
       "         [208, 205, 200],\n",
       "         [208, 205, 200],\n",
       "         [208, 205, 200]],\n",
       " \n",
       "        [[197, 194, 189],\n",
       "         [202, 199, 194],\n",
       "         [202, 199, 194],\n",
       "         ...,\n",
       "         [208, 205, 200],\n",
       "         [208, 205, 200],\n",
       "         [208, 205, 200]],\n",
       " \n",
       "        [[200, 197, 192],\n",
       "         [201, 198, 193],\n",
       "         [202, 199, 194],\n",
       "         ...,\n",
       "         [208, 205, 200],\n",
       "         [208, 205, 200],\n",
       "         [208, 205, 200]]], dtype=uint8),\n",
       " array([[[185, 163, 176],\n",
       "         [185, 163, 176],\n",
       "         [185, 163, 176],\n",
       "         ...,\n",
       "         [204, 172, 183],\n",
       "         [202, 170, 181],\n",
       "         [208, 176, 187]],\n",
       " \n",
       "        [[185, 163, 176],\n",
       "         [185, 163, 176],\n",
       "         [185, 163, 176],\n",
       "         ...,\n",
       "         [204, 172, 183],\n",
       "         [203, 171, 182],\n",
       "         [207, 175, 186]],\n",
       " \n",
       "        [[185, 163, 176],\n",
       "         [185, 163, 176],\n",
       "         [185, 163, 176],\n",
       "         ...,\n",
       "         [205, 173, 184],\n",
       "         [205, 173, 184],\n",
       "         [206, 174, 185]],\n",
       " \n",
       "        ...,\n",
       " \n",
       "        [[171, 148, 166],\n",
       "         [171, 148, 166],\n",
       "         [171, 148, 166],\n",
       "         ...,\n",
       "         [201, 169, 180],\n",
       "         [201, 169, 180],\n",
       "         [201, 169, 180]],\n",
       " \n",
       "        [[171, 148, 166],\n",
       "         [171, 148, 166],\n",
       "         [171, 148, 166],\n",
       "         ...,\n",
       "         [201, 169, 180],\n",
       "         [201, 169, 180],\n",
       "         [201, 169, 180]],\n",
       " \n",
       "        [[171, 148, 166],\n",
       "         [171, 148, 166],\n",
       "         [171, 148, 166],\n",
       "         ...,\n",
       "         [201, 169, 180],\n",
       "         [201, 169, 180],\n",
       "         [201, 169, 180]]], dtype=uint8)]"
      ]
     },
     "execution_count": 58,
     "metadata": {},
     "output_type": "execute_result"
    }
   ],
   "source": [
    "data[0: 2]"
   ]
  },
  {
   "cell_type": "code",
   "execution_count": null,
   "id": "e80b5917",
   "metadata": {},
   "outputs": [],
   "source": []
  }
 ],
 "metadata": {
  "kernelspec": {
   "display_name": "Python 3",
   "language": "python",
   "name": "python3"
  },
  "language_info": {
   "codemirror_mode": {
    "name": "ipython",
    "version": 3
   },
   "file_extension": ".py",
   "mimetype": "text/x-python",
   "name": "python",
   "nbconvert_exporter": "python",
   "pygments_lexer": "ipython3",
   "version": "3.7.10"
  }
 },
 "nbformat": 4,
 "nbformat_minor": 5
}

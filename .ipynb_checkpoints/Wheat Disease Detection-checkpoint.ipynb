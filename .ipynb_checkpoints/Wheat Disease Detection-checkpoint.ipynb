{
 "cells": [
  {
   "cell_type": "code",
   "execution_count": 3,
   "id": "7c3f813a",
   "metadata": {},
   "outputs": [],
   "source": [
    "import numpy as np\n",
    "import pandas as pd\n",
    "import matplotlib.pyplot as plt\n",
    "import warnings\n",
    "warnings.filterwarnings(\"ignore\")\n",
    "%matplotlib inline"
   ]
  },
  {
   "cell_type": "code",
   "execution_count": 4,
   "id": "b25d3efc",
   "metadata": {},
   "outputs": [],
   "source": [
    "from sklearn.model_selection import train_test_split"
   ]
  },
  {
   "cell_type": "code",
   "execution_count": 5,
   "id": "15d564e3",
   "metadata": {},
   "outputs": [],
   "source": [
    "from tensorflow.keras.optimizers import Adam"
   ]
  },
  {
   "cell_type": "code",
   "execution_count": 6,
   "id": "cbbd6718",
   "metadata": {},
   "outputs": [],
   "source": [
    "from tensorflow.keras.applications import VGG19, VGG16"
   ]
  },
  {
   "cell_type": "code",
   "execution_count": 8,
   "id": "c5de5242",
   "metadata": {},
   "outputs": [],
   "source": [
    "import cv2\n",
    "import os \n",
    "import pickle"
   ]
  },
  {
   "cell_type": "code",
   "execution_count": 10,
   "id": "d6875597",
   "metadata": {},
   "outputs": [],
   "source": [
    "from imutils import paths"
   ]
  },
  {
   "cell_type": "code",
   "execution_count": 11,
   "id": "8f251481",
   "metadata": {},
   "outputs": [],
   "source": [
    "LABELS = set([\"Crown and Root Rot\", \"Healthy Wheat\", \"Leaf Rust\", \"Wheat Loose Smut\"])"
   ]
  },
  {
   "cell_type": "code",
   "execution_count": 18,
   "id": "ab9a70c1",
   "metadata": {},
   "outputs": [
    {
     "name": "stdout",
     "output_type": "stream",
     "text": [
      "Images/Crown and Root Rot/00041.jpg\n",
      "Images/Crown and Root Rot/00051.jpg\n",
      "Images/Crown and Root Rot/00061.jpg\n",
      "Images/Crown and Root Rot/00071.jpg\n",
      "Images/Crown and Root Rot/00081.png\n"
     ]
    }
   ],
   "source": [
    "count = 0 \n",
    "for images in paths.list_images('Images/Crown and Root Rot/'):\n",
    "    print(images)\n",
    "    count = count + 1\n",
    "    if count == 5:\n",
    "        break"
   ]
  },
  {
   "cell_type": "code",
   "execution_count": 25,
   "id": "0091cfb4",
   "metadata": {},
   "outputs": [],
   "source": [
    "image = cv2.imread('Images/Crown and Root Rot/00041.jpg')\n",
    "image = cv2.cvtColor(image, cv2.COLOR_BGR2RGB)\n",
    "image = cv2.resize(image, (224, 224))"
   ]
  },
  {
   "cell_type": "code",
   "execution_count": 30,
   "id": "21aa238a",
   "metadata": {},
   "outputs": [
    {
     "name": "stdout",
     "output_type": "stream",
     "text": [
      "Images/Crown and Root Rot/00041.jpg\n",
      "Images/Crown and Root Rot/00051.jpg\n",
      "Images/Crown and Root Rot/00061.jpg\n",
      "Images/Crown and Root Rot/00071.jpg\n",
      "Images/Crown and Root Rot/00081.png\n"
     ]
    }
   ],
   "source": [
    "count = 0\n",
    "for images in paths.list_images('Images/Crown and Root Rot/'):\n",
    "    print(images)\n",
    "    count = count + 1\n",
    "    if count == 5:\n",
    "        break"
   ]
  },
  {
   "cell_type": "code",
   "execution_count": 36,
   "id": "f7cf5bd3",
   "metadata": {},
   "outputs": [],
   "source": [
    "sample_path = list(paths.list_images('Images/Crown and Root Rot/'))[0]"
   ]
  },
  {
   "cell_type": "code",
   "execution_count": 37,
   "id": "6682241d",
   "metadata": {},
   "outputs": [
    {
     "data": {
      "text/plain": [
       "'Images/Crown and Root Rot/00041.jpg'"
      ]
     },
     "execution_count": 37,
     "metadata": {},
     "output_type": "execute_result"
    }
   ],
   "source": [
    "sample_path"
   ]
  },
  {
   "cell_type": "code",
   "execution_count": 41,
   "id": "e96209bb",
   "metadata": {},
   "outputs": [
    {
     "data": {
      "text/plain": [
       "['Images', 'Crown and Root Rot', '00041.jpg']"
      ]
     },
     "execution_count": 41,
     "metadata": {},
     "output_type": "execute_result"
    }
   ],
   "source": [
    "sample_path.split('/')"
   ]
  },
  {
   "cell_type": "code",
   "execution_count": 42,
   "id": "5e9eddad",
   "metadata": {},
   "outputs": [
    {
     "data": {
      "text/plain": [
       "['.git',\n",
       " '.gitattributes',\n",
       " '.ipynb_checkpoints',\n",
       " 'Images',\n",
       " 'README.md',\n",
       " 'Wheat Disease Detection.ipynb']"
      ]
     },
     "execution_count": 42,
     "metadata": {},
     "output_type": "execute_result"
    }
   ],
   "source": [
    "os.listdir()"
   ]
  },
  {
   "cell_type": "code",
   "execution_count": 44,
   "id": "d212df1c",
   "metadata": {},
   "outputs": [],
   "source": [
    "Labels = os.listdir('Images')"
   ]
  },
  {
   "cell_type": "code",
   "execution_count": 45,
   "id": "a60e8f25",
   "metadata": {},
   "outputs": [
    {
     "name": "stdout",
     "output_type": "stream",
     "text": [
      "['Crown and Root Rot', 'Healthy Wheat', 'Leaf Rust', 'Wheat Loose Smut']\n"
     ]
    }
   ],
   "source": [
    "print(Labels)"
   ]
  },
  {
   "cell_type": "code",
   "execution_count": 59,
   "id": "4df70fb7",
   "metadata": {},
   "outputs": [],
   "source": [
    "CROWN_AND_ROOT_ROT_PATH = 'Images/Crown and Root Rot/'\n",
    "HEALTHY_AND_WHEAT_PATH = 'Images/Healthy Wheat/'\n",
    "LEAF_RUST_PATH = 'Images/Leaf Rust/'\n",
    "WHEAT_LOOSE_SMUT_PATH = 'Images/Wheat Loose Smut/'"
   ]
  },
  {
   "cell_type": "code",
   "execution_count": 60,
   "id": "45f00f43",
   "metadata": {},
   "outputs": [],
   "source": [
    "from tqdm import tqdm"
   ]
  },
  {
   "cell_type": "code",
   "execution_count": 63,
   "id": "c950e4cc",
   "metadata": {},
   "outputs": [
    {
     "name": "stderr",
     "output_type": "stream",
     "text": [
      "1021it [00:03, 274.88it/s]\n",
      "1146it [00:21, 53.84it/s]\n",
      "1286it [01:26, 14.78it/s]\n",
      "930it [00:04, 206.43it/s]\n"
     ]
    }
   ],
   "source": [
    "data = []\n",
    "labels = []\n",
    "for image_path in tqdm(paths.list_images(CROWN_AND_ROOT_ROT_PATH)):\n",
    "    image = cv2.imread(image_path)\n",
    "    image = cv2.cvtColor(image, cv2.COLOR_BGR2RGB)\n",
    "    image = cv2.resize(image, (224, 224))\n",
    "    data.append(image)\n",
    "    \n",
    "    label = image_path.split('/')[-2]\n",
    "    \n",
    "    labels.append(label)\n",
    "    \n",
    "for image_path in tqdm(paths.list_images(HEALTHY_AND_WHEAT_PATH)):\n",
    "    image = cv2.imread(image_path)\n",
    "    image = cv2.cvtColor(image, cv2.COLOR_BGR2RGB)\n",
    "    image = cv2.resize(image, (224, 224))\n",
    "    data.append(image)\n",
    "    \n",
    "    label = image_path.split('/')[-2]\n",
    "    \n",
    "    labels.append(label)\n",
    "\n",
    "for image_path in tqdm(paths.list_images(LEAF_RUST_PATH)):\n",
    "    image = cv2.imread(image_path)\n",
    "    image = cv2.cvtColor(image, cv2.COLOR_BGR2RGB)\n",
    "    image = cv2.resize(image, (224, 224))\n",
    "    data.append(image)\n",
    "    \n",
    "    label = image_path.split('/')[-2]\n",
    "    \n",
    "    labels.append(label)\n",
    "    \n",
    "for image_path in tqdm(paths.list_images(WHEAT_LOOSE_SMUT_PATH)):\n",
    "    image = cv2.imread(image_path)\n",
    "    image = cv2.cvtColor(image, cv2.COLOR_BGR2RGB)\n",
    "    image = cv2.resize(image, (224, 224))\n",
    "    data.append(image)\n",
    "    \n",
    "    label = image_path.split('/')[-2]\n",
    "    \n",
    "    labels.append(label)\n",
    "    \n",
    "    "
   ]
  },
  {
   "cell_type": "code",
   "execution_count": 66,
   "id": "030bf07d",
   "metadata": {},
   "outputs": [
    {
     "data": {
      "text/plain": [
       "'Wheat Loose Smut'"
      ]
     },
     "execution_count": 66,
     "metadata": {},
     "output_type": "execute_result"
    }
   ],
   "source": [
    "labels[-1]"
   ]
  },
  {
   "cell_type": "code",
   "execution_count": 81,
   "id": "2a463060",
   "metadata": {},
   "outputs": [],
   "source": [
    "from tensorflow.keras.layers import Input\n",
    "from tensorflow.keras import Model\n",
    "from tensorflow.keras.layers import AveragePooling2D\n",
    "from tensorflow.keras.layers import Flatten\n",
    "from tensorflow.keras.layers import Dense\n",
    "from tensorflow.keras.layers import Dropout"
   ]
  },
  {
   "cell_type": "code",
   "execution_count": 84,
   "id": "6a73addd",
   "metadata": {},
   "outputs": [],
   "source": [
    "headmodel = VGG19(weights = \"imagenet\", include_top = False,\n",
    "             input_tensor = Input(shape = (224, 224, 3)))\n",
    "model = headmodel.output\n",
    "model = AveragePooling2D(pool_size= (5, 5))(model)\n",
    "model = Flatten(name = 'flatten')(model)\n",
    "model = Dense(512, activation = 'relu')(model)\n",
    "model = Dropout(0.2)(model)\n",
    "model = Dense(len(Labels), activation = 'softmax')(model)\n",
    "\n",
    "final_model = Model(inputs = headmodel.input, outputs = model)\n",
    "\n",
    "for layer in headmodel.layers:\n",
    "    layer.trainable = False"
   ]
  },
  {
   "cell_type": "code",
   "execution_count": null,
   "id": "1b57d87b",
   "metadata": {},
   "outputs": [],
   "source": []
  }
 ],
 "metadata": {
  "kernelspec": {
   "display_name": "Python 3",
   "language": "python",
   "name": "python3"
  },
  "language_info": {
   "codemirror_mode": {
    "name": "ipython",
    "version": 3
   },
   "file_extension": ".py",
   "mimetype": "text/x-python",
   "name": "python",
   "nbconvert_exporter": "python",
   "pygments_lexer": "ipython3",
   "version": "3.7.10"
  }
 },
 "nbformat": 4,
 "nbformat_minor": 5
}
